{
 "cells": [
  {
   "cell_type": "code",
   "execution_count": 4,
   "id": "a4fe3f2e",
   "metadata": {},
   "outputs": [],
   "source": [
    "import pandas as pd \n",
    "import numpy as nm\n",
    "import seaborn as sns\n",
    "%matplotlib inline"
   ]
  },
  {
   "cell_type": "markdown",
   "id": "45f00e12",
   "metadata": {},
   "source": [
    "Загружаем представленные для задания таблицы "
   ]
  },
  {
   "cell_type": "code",
   "execution_count": 5,
   "id": "61f1549d",
   "metadata": {},
   "outputs": [],
   "source": [
    "lectures_df=pd.read_csv('/Users/mikhailgubanov/Yandex.Disk-gubanov.mn@phystech.edu.localized/HW_Pandas/lectures.csv',sep=',')\n",
    "questions_df=pd.read_csv('/Users/mikhailgubanov/Yandex.Disk-gubanov.mn@phystech.edu.localized/HW_Pandas/questions.csv',sep=',')\n",
    "train_df=pd.read_csv('/Users/mikhailgubanov/Yandex.Disk-gubanov.mn@phystech.edu.localized/HW_Pandas/train.csv',sep=',',nrows=1000000)\n"
   ]
  },
  {
   "cell_type": "markdown",
   "id": "14b2b8a3",
   "metadata": {},
   "source": [
    "### Оцeниваем содержание основной таблицы (train)"
   ]
  },
  {
   "cell_type": "markdown",
   "id": "55b86740",
   "metadata": {},
   "source": [
    "* **row_id** : (int64) Идентификационный код для строки. # *можно удалить - не информативно* \n",
    "* **timestamp**: (int64) время в миллисекундах между этим пользовательским взаимодействием и первым завершением события от этого пользователя. **время в миллисекундах. с момента ответа на первый вопрос**\n",
    "* **user_id**: (int32) Идентификационный код вопроса или лекции.\n",
    "* **content_id**: (int16) Идентификационный код для пользовательского взаимодействия\n",
    "* **content_type_id**: (int8) 0, если событием был заданный пользователю **question**, 1, если событием был пользователь, просматривающий **lecture**.\n",
    "* **task_container_id**: (int16) Идентификационный код для группы вопросов или лекций. Например, пользователь может увидеть три вопроса подряд, прежде чем увидит пояснения к любому из них. Все эти три будут иметь общий идентификатор task_container_id.\n",
    "* **user_answer**: (int8) ответ пользователя на вопрос, если таковой имеется. Считайте -1 как null, для лекций.\n",
    "* **answered_correctly**: (int8) если пользователь ответил правильно. Считайте -1 как null, для лекций.\n",
    "* **prior_question_elapsed_time**: **(время ответа на вопрос)** (float32) Среднее время в миллисекундах, которое потребовалось пользователю, чтобы ответить на каждый вопрос в предыдущем блоке вопросов, игнорируя любые лекции между ними. Равно нулю для первого пакета вопросов пользователя или лекции. Обратите внимание, что время - это среднее время, затраченное пользователем на решение каждого вопроса в предыдущем пакете.\n",
    "* **prior_question_had_explanation**: (**был ли объяснен предыдущий вопрос**) (bool) смотрел ли пользователь обьяснение и правильный ответ на предидущий вопрос "
   ]
  },
  {
   "cell_type": "code",
   "execution_count": 50,
   "id": "24a59b75",
   "metadata": {},
   "outputs": [
    {
     "name": "stdout",
     "output_type": "stream",
     "text": [
      "<class 'pandas.core.frame.DataFrame'>\n",
      "RangeIndex: 1000000 entries, 0 to 999999\n",
      "Data columns (total 9 columns):\n",
      " #   Column                          Non-Null Count    Dtype   \n",
      "---  ------                          --------------    -----   \n",
      " 0   timestamp                       1000000 non-null  int64   \n",
      " 1   user_id                         1000000 non-null  int64   \n",
      " 2   content_id                      1000000 non-null  int64   \n",
      " 3   content_type_id                 1000000 non-null  category\n",
      " 4   task_container_id               1000000 non-null  int64   \n",
      " 5   user_answer                     1000000 non-null  category\n",
      " 6   answered_correctly              1000000 non-null  category\n",
      " 7   prior_question_elapsed_time     976277 non-null   float64 \n",
      " 8   prior_question_had_explanation  996184 non-null   category\n",
      "dtypes: category(4), float64(1), int64(4)\n",
      "memory usage: 42.0 MB\n"
     ]
    }
   ],
   "source": [
    "# оцениваем содержание таблицы, с точки зрения содержания информативности и формата данных.\n",
    "train_df.info()"
   ]
  },
  {
   "cell_type": "code",
   "execution_count": 83,
   "id": "a7826ffe",
   "metadata": {},
   "outputs": [
    {
     "data": {
      "text/html": [
       "<div>\n",
       "<style scoped>\n",
       "    .dataframe tbody tr th:only-of-type {\n",
       "        vertical-align: middle;\n",
       "    }\n",
       "\n",
       "    .dataframe tbody tr th {\n",
       "        vertical-align: top;\n",
       "    }\n",
       "\n",
       "    .dataframe thead th {\n",
       "        text-align: right;\n",
       "    }\n",
       "</style>\n",
       "<table border=\"1\" class=\"dataframe\">\n",
       "  <thead>\n",
       "    <tr style=\"text-align: right;\">\n",
       "      <th></th>\n",
       "      <th>timestamp</th>\n",
       "      <th>user_id</th>\n",
       "      <th>content_id</th>\n",
       "      <th>content_type_id</th>\n",
       "      <th>task_container_id</th>\n",
       "      <th>user_answer</th>\n",
       "      <th>answered_correctly</th>\n",
       "      <th>prior_question_elapsed_time</th>\n",
       "    </tr>\n",
       "  </thead>\n",
       "  <tbody>\n",
       "    <tr>\n",
       "      <th>count</th>\n",
       "      <td>4.600000e+01</td>\n",
       "      <td>46.0</td>\n",
       "      <td>46.000000</td>\n",
       "      <td>46.0</td>\n",
       "      <td>46.000000</td>\n",
       "      <td>46.000000</td>\n",
       "      <td>46.000000</td>\n",
       "      <td>45.000000</td>\n",
       "    </tr>\n",
       "    <tr>\n",
       "      <th>mean</th>\n",
       "      <td>1.021248e+08</td>\n",
       "      <td>115.0</td>\n",
       "      <td>3598.173913</td>\n",
       "      <td>0.0</td>\n",
       "      <td>22.239130</td>\n",
       "      <td>1.565217</td>\n",
       "      <td>0.695652</td>\n",
       "      <td>19933.311111</td>\n",
       "    </tr>\n",
       "    <tr>\n",
       "      <th>std</th>\n",
       "      <td>2.423906e+08</td>\n",
       "      <td>0.0</td>\n",
       "      <td>3595.928372</td>\n",
       "      <td>0.0</td>\n",
       "      <td>13.023372</td>\n",
       "      <td>1.147987</td>\n",
       "      <td>0.465215</td>\n",
       "      <td>7103.367533</td>\n",
       "    </tr>\n",
       "    <tr>\n",
       "      <th>min</th>\n",
       "      <td>0.000000e+00</td>\n",
       "      <td>115.0</td>\n",
       "      <td>4.000000</td>\n",
       "      <td>0.0</td>\n",
       "      <td>0.000000</td>\n",
       "      <td>0.000000</td>\n",
       "      <td>0.000000</td>\n",
       "      <td>5000.000000</td>\n",
       "    </tr>\n",
       "    <tr>\n",
       "      <th>25%</th>\n",
       "      <td>2.857732e+05</td>\n",
       "      <td>115.0</td>\n",
       "      <td>133.750000</td>\n",
       "      <td>0.0</td>\n",
       "      <td>11.250000</td>\n",
       "      <td>1.000000</td>\n",
       "      <td>0.000000</td>\n",
       "      <td>17000.000000</td>\n",
       "    </tr>\n",
       "    <tr>\n",
       "      <th>50%</th>\n",
       "      <td>5.459320e+05</td>\n",
       "      <td>115.0</td>\n",
       "      <td>2064.500000</td>\n",
       "      <td>0.0</td>\n",
       "      <td>22.500000</td>\n",
       "      <td>2.000000</td>\n",
       "      <td>1.000000</td>\n",
       "      <td>20000.000000</td>\n",
       "    </tr>\n",
       "    <tr>\n",
       "      <th>75%</th>\n",
       "      <td>1.276226e+06</td>\n",
       "      <td>115.0</td>\n",
       "      <td>7892.500000</td>\n",
       "      <td>0.0</td>\n",
       "      <td>33.750000</td>\n",
       "      <td>3.000000</td>\n",
       "      <td>1.000000</td>\n",
       "      <td>22000.000000</td>\n",
       "    </tr>\n",
       "    <tr>\n",
       "      <th>max</th>\n",
       "      <td>6.680900e+08</td>\n",
       "      <td>115.0</td>\n",
       "      <td>7984.000000</td>\n",
       "      <td>0.0</td>\n",
       "      <td>41.000000</td>\n",
       "      <td>3.000000</td>\n",
       "      <td>1.000000</td>\n",
       "      <td>55000.000000</td>\n",
       "    </tr>\n",
       "  </tbody>\n",
       "</table>\n",
       "</div>"
      ],
      "text/plain": [
       "          timestamp  user_id   content_id  content_type_id  task_container_id  \\\n",
       "count  4.600000e+01     46.0    46.000000             46.0          46.000000   \n",
       "mean   1.021248e+08    115.0  3598.173913              0.0          22.239130   \n",
       "std    2.423906e+08      0.0  3595.928372              0.0          13.023372   \n",
       "min    0.000000e+00    115.0     4.000000              0.0           0.000000   \n",
       "25%    2.857732e+05    115.0   133.750000              0.0          11.250000   \n",
       "50%    5.459320e+05    115.0  2064.500000              0.0          22.500000   \n",
       "75%    1.276226e+06    115.0  7892.500000              0.0          33.750000   \n",
       "max    6.680900e+08    115.0  7984.000000              0.0          41.000000   \n",
       "\n",
       "       user_answer  answered_correctly  prior_question_elapsed_time  \n",
       "count    46.000000           46.000000                    45.000000  \n",
       "mean      1.565217            0.695652                 19933.311111  \n",
       "std       1.147987            0.465215                  7103.367533  \n",
       "min       0.000000            0.000000                  5000.000000  \n",
       "25%       1.000000            0.000000                 17000.000000  \n",
       "50%       2.000000            1.000000                 20000.000000  \n",
       "75%       3.000000            1.000000                 22000.000000  \n",
       "max       3.000000            1.000000                 55000.000000  "
      ]
     },
     "execution_count": 83,
     "metadata": {},
     "output_type": "execute_result"
    }
   ],
   "source": [
    "train_df[train_df['user_id']==115].sort_values(['user_id','timestamp','content_id']).describe()"
   ]
  },
  {
   "cell_type": "markdown",
   "id": "61b8a880",
   "metadata": {},
   "source": [
    "### ''' Оптимизируем размер таблицы, используемой для анализа данных (trian) '''\n",
    "\n",
    "Переводим часть данных в **category** в результате, обьем занимаемых данных сокращается на 32%. \n",
    "В нашем примере с 68 МБ, до 42мб. (после удаления лиших столбцов)"
   ]
  },
  {
   "cell_type": "code",
   "execution_count": 107,
   "id": "149d1707",
   "metadata": {},
   "outputs": [
    {
     "data": {
      "text/html": [
       "<div>\n",
       "<style scoped>\n",
       "    .dataframe tbody tr th:only-of-type {\n",
       "        vertical-align: middle;\n",
       "    }\n",
       "\n",
       "    .dataframe tbody tr th {\n",
       "        vertical-align: top;\n",
       "    }\n",
       "\n",
       "    .dataframe thead th {\n",
       "        text-align: right;\n",
       "    }\n",
       "</style>\n",
       "<table border=\"1\" class=\"dataframe\">\n",
       "  <thead>\n",
       "    <tr style=\"text-align: right;\">\n",
       "      <th></th>\n",
       "      <th>Column_Name</th>\n",
       "      <th>Num_Unique</th>\n",
       "      <th>Type</th>\n",
       "    </tr>\n",
       "  </thead>\n",
       "  <tbody>\n",
       "    <tr>\n",
       "      <th>0</th>\n",
       "      <td>content_type_id</td>\n",
       "      <td>2</td>\n",
       "      <td>category</td>\n",
       "    </tr>\n",
       "    <tr>\n",
       "      <th>1</th>\n",
       "      <td>prior_question_had_explanation</td>\n",
       "      <td>2</td>\n",
       "      <td>category</td>\n",
       "    </tr>\n",
       "    <tr>\n",
       "      <th>2</th>\n",
       "      <td>answered_correctly</td>\n",
       "      <td>3</td>\n",
       "      <td>category</td>\n",
       "    </tr>\n",
       "    <tr>\n",
       "      <th>3</th>\n",
       "      <td>user_answer</td>\n",
       "      <td>5</td>\n",
       "      <td>category</td>\n",
       "    </tr>\n",
       "    <tr>\n",
       "      <th>4</th>\n",
       "      <td>prior_question_elapsed_time</td>\n",
       "      <td>1659</td>\n",
       "      <td>float64</td>\n",
       "    </tr>\n",
       "    <tr>\n",
       "      <th>5</th>\n",
       "      <td>user_id</td>\n",
       "      <td>3824</td>\n",
       "      <td>int64</td>\n",
       "    </tr>\n",
       "    <tr>\n",
       "      <th>6</th>\n",
       "      <td>task_container_id</td>\n",
       "      <td>7740</td>\n",
       "      <td>int64</td>\n",
       "    </tr>\n",
       "    <tr>\n",
       "      <th>7</th>\n",
       "      <td>content_id</td>\n",
       "      <td>13320</td>\n",
       "      <td>int64</td>\n",
       "    </tr>\n",
       "    <tr>\n",
       "      <th>8</th>\n",
       "      <td>timestamp</td>\n",
       "      <td>769357</td>\n",
       "      <td>int64</td>\n",
       "    </tr>\n",
       "  </tbody>\n",
       "</table>\n",
       "</div>"
      ],
      "text/plain": [
       "                      Column_Name  Num_Unique      Type\n",
       "0                 content_type_id           2  category\n",
       "1  prior_question_had_explanation           2  category\n",
       "2              answered_correctly           3  category\n",
       "3                     user_answer           5  category\n",
       "4     prior_question_elapsed_time        1659   float64\n",
       "5                         user_id        3824     int64\n",
       "6               task_container_id        7740     int64\n",
       "7                      content_id       13320     int64\n",
       "8                       timestamp      769357     int64"
      ]
     },
     "execution_count": 107,
     "metadata": {},
     "output_type": "execute_result"
    }
   ],
   "source": [
    "# проверия столбцы на количество уникальных значений в каждом столбце.\n",
    "# создаём пустой список\n",
    "unique_list = []\n",
    "# пробегаемся по именам столбцов в таблице\n",
    "for col in train_df.columns:\n",
    "    # создаём кортеж (имя столбца, число уникальных значений)\n",
    "    item = (col, train_df[col].nunique(),train_df[col].dtype) \n",
    "    # добавляем кортеж в список\n",
    "    unique_list.append(item) \n",
    "# создаём вспомогательную таблицу и сортируем её\n",
    "unique_counts = pd.DataFrame(\n",
    "    unique_list,\n",
    "    columns=['Column_Name', 'Num_Unique', 'Type']\n",
    ").sort_values(by='Num_Unique',  ignore_index=True)\n",
    "# выводим её на экран\n",
    "unique_counts"
   ]
  },
  {
   "cell_type": "code",
   "execution_count": 9,
   "id": "48012ccc",
   "metadata": {
    "scrolled": true
   },
   "outputs": [
    {
     "name": "stdout",
     "output_type": "stream",
     "text": [
      "<class 'pandas.core.frame.DataFrame'>\n",
      "RangeIndex: 1000000 entries, 0 to 999999\n",
      "Data columns (total 9 columns):\n",
      " #   Column                          Non-Null Count    Dtype   \n",
      "---  ------                          --------------    -----   \n",
      " 0   timestamp                       1000000 non-null  int64   \n",
      " 1   user_id                         1000000 non-null  int64   \n",
      " 2   content_id                      1000000 non-null  int64   \n",
      " 3   content_type_id                 1000000 non-null  category\n",
      " 4   task_container_id               1000000 non-null  int64   \n",
      " 5   user_answer                     1000000 non-null  category\n",
      " 6   answered_correctly              1000000 non-null  category\n",
      " 7   prior_question_elapsed_time     976277 non-null   float64 \n",
      " 8   prior_question_had_explanation  996184 non-null   category\n",
      "dtypes: category(4), float64(1), int64(4)\n",
      "memory usage: 42.0 MB\n"
     ]
    },
    {
     "data": {
      "text/plain": [
       "None"
      ]
     },
     "metadata": {},
     "output_type": "display_data"
    }
   ],
   "source": [
    "max_unique_count = 6 # задаём максимальное число уникальных категорий\n",
    "for col in train_df.columns: # цикл по именам столбцов\n",
    "    if train_df[col].nunique() < max_unique_count: # проверяем условие\n",
    "        train_df[col] = train_df[col].astype('category') # преобразуем тип столбца\n",
    "display(train_df.info())"
   ]
  },
  {
   "cell_type": "markdown",
   "id": "84e1a558",
   "metadata": {},
   "source": [
    "### Блок  2 - удаляем не информативные столбцы."
   ]
  },
  {
   "cell_type": "code",
   "execution_count": 281,
   "id": "1ae3baec",
   "metadata": {},
   "outputs": [],
   "source": [
    "train_df=train_df.drop(['user_answer'],axis=1) # удаляем не информативные столбцы user_answer и идентификатр строки."
   ]
  },
  {
   "cell_type": "code",
   "execution_count": 43,
   "id": "22e015d8",
   "metadata": {
    "scrolled": true
   },
   "outputs": [
    {
     "data": {
      "text/plain": [
       "1     65.035767\n",
       "0     34.964233\n",
       "-1     0.000000\n",
       "Name: answered_correctly, dtype: float64"
      ]
     },
     "execution_count": 43,
     "metadata": {},
     "output_type": "execute_result"
    }
   ],
   "source": [
    "# анализируем ответы пользователей (без учета лекций)\n",
    "train_df['answered_correctly'][train_df['answered_correctly']!=-1].value_counts(normalize=True)*100\n",
    "# 65% ответов пользователей верные. "
   ]
  },
  {
   "cell_type": "code",
   "execution_count": 44,
   "id": "c316d42b",
   "metadata": {},
   "outputs": [
    {
     "data": {
      "text/plain": [
       "0    98.0093\n",
       "1     1.9907\n",
       "Name: content_type_id, dtype: float64"
      ]
     },
     "execution_count": 44,
     "metadata": {},
     "output_type": "execute_result"
    }
   ],
   "source": [
    "#98% активности пользователя - это ответы на вопросы \n",
    "train_df['content_type_id'].value_counts(normalize=True)*100"
   ]
  },
  {
   "cell_type": "code",
   "execution_count": 32,
   "id": "2c678fdf",
   "metadata": {},
   "outputs": [],
   "source": [
    "# формируем фильтр для оценки количества верных ответов\n",
    "correctly_filter=train_df['answered_correctly'][train_df['answered_correctly']==1] \n",
    "# количество ошибочных ответов \n",
    "mistake_filter=train_df['answered_correctly'][train_df['answered_correctly']==0]\n",
    "# количество проведенных лекций\n",
    "lec_filter=train_df['answered_correctly'][train_df['answered_correctly']==-1]"
   ]
  },
  {
   "cell_type": "code",
   "execution_count": 65,
   "id": "b896f83b",
   "metadata": {},
   "outputs": [
    {
     "data": {
      "text/plain": [
       "count    976277.000000\n",
       "mean         25.302963\n",
       "std          19.710310\n",
       "min           0.000000\n",
       "25%          16.000000\n",
       "50%          21.000000\n",
       "75%          29.666000\n",
       "max         300.000000\n",
       "Name: prior_question_elapsed_time, dtype: float64"
      ]
     },
     "execution_count": 65,
     "metadata": {},
     "output_type": "execute_result"
    }
   ],
   "source": [
    "(train_df['prior_question_elapsed_time']/1000).describe()"
   ]
  },
  {
   "cell_type": "markdown",
   "id": "d6b50813",
   "metadata": {},
   "source": [
    "* В среднем на вопрос затрачивается около **25** секунд (на ограниченной выборке)\n",
    "* максимальное время ответа 300 сек\n",
    "* медиана на уровне 21 сек\n",
    "* стандартное отклонение 19 сек"
   ]
  },
  {
   "cell_type": "code",
   "execution_count": null,
   "id": "597b1704",
   "metadata": {},
   "outputs": [],
   "source": [
    "\n"
   ]
  },
  {
   "cell_type": "markdown",
   "id": "1e6c4d74",
   "metadata": {},
   "source": [
    "### Проанализируем успеваемость студента \n",
    "* правильность ответа в зависимости полученной консультации \n",
    "* средний бал, в зависимости от скорости ответов на вопросы\n",
    "* количество првильныз ответов в зависимости от пройденного времени с начала теста "
   ]
  },
  {
   "cell_type": "code",
   "execution_count": 150,
   "id": "3c07efba",
   "metadata": {},
   "outputs": [],
   "source": [
    "#настраиваем фильтры \n",
    "Filter_corectly=train_df['answered_correctly']==1\n",
    "Filter_mistake=train_df['answered_correctly']==0\n",
    "no_had_explanation_filter=train_df['prior_question_had_explanation']==0\n",
    "ya_had_explanation_filter=train_df['prior_question_had_explanation']==1"
   ]
  },
  {
   "cell_type": "code",
   "execution_count": 279,
   "id": "86791a90",
   "metadata": {},
   "outputs": [
    {
     "name": "stdout",
     "output_type": "stream",
     "text": [
      "Пользователи получающие консультацию на предыдущий вопрос (видящие ответы на предыдущий вопрос, в нашей выборке)дают в два раза больше верных ответов, в сравнении с неверными. При этом при в отсуствии консультации зависимости не наблюдается\n"
     ]
    },
    {
     "data": {
      "text/plain": [
       "<AxesSubplot:>"
      ]
     },
     "execution_count": 279,
     "metadata": {},
     "output_type": "execute_result"
    },
    {
     "data": {
      "image/png": "[encoded data removed]",
      "text/plain": [
       "<Figure size 432x288 with 1 Axes>"
      ]
     },
     "metadata": {
      "needs_background": "light"
     },
     "output_type": "display_data"
    }
   ],
   "source": [
    "# формируем фильтрованные данные для построения графика\n",
    "a=train_df[Filter_corectly & no_had_explanation_filter]['user_id'].count()\n",
    "b=train_df[Filter_corectly & ya_had_explanation_filter]['user_id'].count()\n",
    "c=train_df[Filter_mistake & no_had_explanation_filter]['user_id'].count()\n",
    "d=train_df[Filter_mistake & ya_had_explanation_filter]['user_id'].count()\n",
    "\n",
    "# на основе полученных данных создаем обекс Series\n",
    "s=pd.Series([a,b,c,d], index=['correct without explanation','correct after explanation','wrong without explanation','wrong after explanation'])\n",
    "\n",
    "print('Пользователи получающие консультацию на предыдущий вопрос (видящие ответы на предыдущий вопрос, в нашей выборке)'\n",
    "      'дают в два раза больше верных ответов, в сравнении с неверными. При этом при в отсуствии консультации зависимости не наблюдается', sep='/n')\n",
    "\n",
    "\n",
    "s.plot(kind='bar')"
   ]
  },
  {
   "cell_type": "code",
   "execution_count": null,
   "id": "011b1117",
   "metadata": {},
   "outputs": [],
   "source": [
    "составим таблицу с параметрами студентов"
   ]
  },
  {
   "cell_type": "code",
   "execution_count": 164,
   "id": "9db5453d",
   "metadata": {},
   "outputs": [],
   "source": [
    "sudents_list = list(train_df['user_id'].unique()) # создаем список студентов "
   ]
  },
  {
   "cell_type": "code",
   "execution_count": 172,
   "id": "d2e63935",
   "metadata": {},
   "outputs": [],
   "source": [
    "# среднее время затраченное на ответ на вопрос.\n",
    "qv_time = []\n",
    "for student in sudents_list:\n",
    "    t = train_df[(train_df['user_id'] == student) & (train_df['answered_correctly'] != -1)]['prior_question_elapsed_time'].mean()\n",
    "    g=round((t/1000),2)\n",
    "    qv_time.append(g)\n",
    "    \n"
   ]
  },
  {
   "cell_type": "code",
   "execution_count": 183,
   "id": "3b856964",
   "metadata": {},
   "outputs": [],
   "source": [
    "# средний балл\n",
    "mean_grade = []\n",
    "for student in sudents_list:\n",
    "    g = train_df[(train_df['user_id'] == student) & (train_df['answered_correctly'] != -1)]['answered_correctly'].astype(int).mean()\n",
    "    \n",
    "    mean_grade.append(round(g,2))\n"
   ]
  },
  {
   "cell_type": "code",
   "execution_count": null,
   "id": "a366bd50",
   "metadata": {},
   "outputs": [],
   "source": [
    "# общее время проведенное на платформе\n",
    "all_time = []\n",
    "for student in sudents_list:\n",
    "    at = train_df[(train_df['user_id'] == student)]['timestamp'].max()\n",
    "    am=round((at/60000),2)\n",
    "    all_time.append(am)\n"
   ]
  },
  {
   "cell_type": "code",
   "execution_count": 184,
   "id": "485c0ed7",
   "metadata": {},
   "outputs": [],
   "source": [
    "# количество отвеченых вопросов \n",
    "ques_quant = []\n",
    "for student in sudents_list:\n",
    "    q = train_df[(train_df['user_id'] == student) & (train_df['content_type_id'] == 0)]['content_type_id'].count()\n",
    "    ques_quant.append(q)"
   ]
  },
  {
   "cell_type": "code",
   "execution_count": 234,
   "id": "093cbc27",
   "metadata": {},
   "outputs": [],
   "source": [
    "# количество прослушанных лекций  \n",
    "lec_wached = []\n",
    "for student in sudents_list:\n",
    "    l = train_df[(train_df['user_id'] == student) & (train_df['content_type_id'] == 1)]['content_type_id'].astype(int).sum()\n",
    "    lec_wached.append(l)\n",
    "   \n",
    "        \n"
   ]
  },
  {
   "cell_type": "code",
   "execution_count": 209,
   "id": "b1fe94bc",
   "metadata": {},
   "outputs": [],
   "source": [
    "# количество верных ответов, после разьяснений предsдущего вопроса\n",
    "\n",
    "exp_qv=[]\n",
    "for student in sudents_list:\n",
    "    exp=train_df[(train_df['user_id'] == student) & Filter_corectly & ya_had_explanation_filter]['answered_correctly'].count()\n",
    "    exp_qv.append(exp)\n",
    "\n"
   ]
  },
  {
   "cell_type": "markdown",
   "id": "510a4e15",
   "metadata": {},
   "source": [
    "### Создадим df c данными о студентах (используем сведения о 3824 студентах)"
   ]
  },
  {
   "cell_type": "code",
   "execution_count": 235,
   "id": "ba91ab69",
   "metadata": {},
   "outputs": [],
   "source": [
    "studenst_df=pd.DataFrame({'user id': sudents_list,\n",
    "                          'qv_time':qv_time,\n",
    "                          'mean_grade':mean_grade,\n",
    "                          'all_time':all_time,\n",
    "                          'ques_quant':ques_quant,\n",
    "                          'lec_wached':lec_wached,\n",
    "                          'exp_qv':exp_qv\n",
    "                         }\n",
    "                        )\n",
    "\n"
   ]
  },
  {
   "cell_type": "code",
   "execution_count": 244,
   "id": "9c6787fd",
   "metadata": {},
   "outputs": [
    {
     "data": {
      "text/html": [
       "<div>\n",
       "<style scoped>\n",
       "    .dataframe tbody tr th:only-of-type {\n",
       "        vertical-align: middle;\n",
       "    }\n",
       "\n",
       "    .dataframe tbody tr th {\n",
       "        vertical-align: top;\n",
       "    }\n",
       "\n",
       "    .dataframe thead th {\n",
       "        text-align: right;\n",
       "    }\n",
       "</style>\n",
       "<table border=\"1\" class=\"dataframe\">\n",
       "  <thead>\n",
       "    <tr style=\"text-align: right;\">\n",
       "      <th></th>\n",
       "      <th>user id</th>\n",
       "      <th>qv_time</th>\n",
       "      <th>mean_grade</th>\n",
       "      <th>all_time</th>\n",
       "      <th>ques_quant</th>\n",
       "      <th>lec_wached</th>\n",
       "      <th>exp_qv</th>\n",
       "    </tr>\n",
       "  </thead>\n",
       "  <tbody>\n",
       "    <tr>\n",
       "      <th>count</th>\n",
       "      <td>3.824000e+03</td>\n",
       "      <td>3822.000000</td>\n",
       "      <td>3824.00000</td>\n",
       "      <td>3.824000e+03</td>\n",
       "      <td>3824.000000</td>\n",
       "      <td>3824.000000</td>\n",
       "      <td>3824.000000</td>\n",
       "    </tr>\n",
       "    <tr>\n",
       "      <th>mean</th>\n",
       "      <td>1.050633e+07</td>\n",
       "      <td>23.985641</td>\n",
       "      <td>0.54511</td>\n",
       "      <td>8.917850e+04</td>\n",
       "      <td>256.300471</td>\n",
       "      <td>5.205805</td>\n",
       "      <td>154.965220</td>\n",
       "    </tr>\n",
       "    <tr>\n",
       "      <th>std</th>\n",
       "      <td>5.958653e+06</td>\n",
       "      <td>8.134100</td>\n",
       "      <td>0.16563</td>\n",
       "      <td>1.785751e+05</td>\n",
       "      <td>693.454534</td>\n",
       "      <td>16.945197</td>\n",
       "      <td>462.885457</td>\n",
       "    </tr>\n",
       "    <tr>\n",
       "      <th>min</th>\n",
       "      <td>1.150000e+02</td>\n",
       "      <td>1.000000</td>\n",
       "      <td>0.00000</td>\n",
       "      <td>0.000000e+00</td>\n",
       "      <td>1.000000</td>\n",
       "      <td>0.000000</td>\n",
       "      <td>0.000000</td>\n",
       "    </tr>\n",
       "    <tr>\n",
       "      <th>25%</th>\n",
       "      <td>5.363199e+06</td>\n",
       "      <td>19.210000</td>\n",
       "      <td>0.43000</td>\n",
       "      <td>1.882750e+01</td>\n",
       "      <td>30.000000</td>\n",
       "      <td>0.000000</td>\n",
       "      <td>3.000000</td>\n",
       "    </tr>\n",
       "    <tr>\n",
       "      <th>50%</th>\n",
       "      <td>1.061051e+07</td>\n",
       "      <td>22.770000</td>\n",
       "      <td>0.57000</td>\n",
       "      <td>5.839760e+03</td>\n",
       "      <td>41.000000</td>\n",
       "      <td>0.000000</td>\n",
       "      <td>14.000000</td>\n",
       "    </tr>\n",
       "    <tr>\n",
       "      <th>75%</th>\n",
       "      <td>1.565077e+07</td>\n",
       "      <td>27.332500</td>\n",
       "      <td>0.67000</td>\n",
       "      <td>8.384158e+04</td>\n",
       "      <td>156.000000</td>\n",
       "      <td>2.000000</td>\n",
       "      <td>85.000000</td>\n",
       "    </tr>\n",
       "    <tr>\n",
       "      <th>max</th>\n",
       "      <td>2.094902e+07</td>\n",
       "      <td>96.440000</td>\n",
       "      <td>1.00000</td>\n",
       "      <td>1.301533e+06</td>\n",
       "      <td>10797.000000</td>\n",
       "      <td>306.000000</td>\n",
       "      <td>6191.000000</td>\n",
       "    </tr>\n",
       "  </tbody>\n",
       "</table>\n",
       "</div>"
      ],
      "text/plain": [
       "            user id      qv_time  mean_grade      all_time    ques_quant  \\\n",
       "count  3.824000e+03  3822.000000  3824.00000  3.824000e+03   3824.000000   \n",
       "mean   1.050633e+07    23.985641     0.54511  8.917850e+04    256.300471   \n",
       "std    5.958653e+06     8.134100     0.16563  1.785751e+05    693.454534   \n",
       "min    1.150000e+02     1.000000     0.00000  0.000000e+00      1.000000   \n",
       "25%    5.363199e+06    19.210000     0.43000  1.882750e+01     30.000000   \n",
       "50%    1.061051e+07    22.770000     0.57000  5.839760e+03     41.000000   \n",
       "75%    1.565077e+07    27.332500     0.67000  8.384158e+04    156.000000   \n",
       "max    2.094902e+07    96.440000     1.00000  1.301533e+06  10797.000000   \n",
       "\n",
       "        lec_wached       exp_qv  \n",
       "count  3824.000000  3824.000000  \n",
       "mean      5.205805   154.965220  \n",
       "std      16.945197   462.885457  \n",
       "min       0.000000     0.000000  \n",
       "25%       0.000000     3.000000  \n",
       "50%       0.000000    14.000000  \n",
       "75%       2.000000    85.000000  \n",
       "max     306.000000  6191.000000  "
      ]
     },
     "execution_count": 244,
     "metadata": {},
     "output_type": "execute_result"
    }
   ],
   "source": [
    "studenst_df.describe()"
   ]
  },
  {
   "cell_type": "code",
   "execution_count": 236,
   "id": "12081516",
   "metadata": {},
   "outputs": [
    {
     "data": {
      "text/plain": [
       "<AxesSubplot:xlabel='lec_wached', ylabel='mean_grade'>"
      ]
     },
     "execution_count": 236,
     "metadata": {},
     "output_type": "execute_result"
    },
    {
     "data": {
      "image/png": "[encoded data removed]",
      "text/plain": [
       "<Figure size 432x288 with 1 Axes>"
      ]
     },
     "metadata": {
      "needs_background": "light"
     },
     "output_type": "display_data"
    }
   ],
   "source": [
    "# прямого влияния на средний балл количества просмотренных лекций не наблюдается \n",
    "\n",
    "studenst_df.plot(x='lec_wached', y='mean_grade',kind=\"scatter\")"
   ]
  },
  {
   "cell_type": "code",
   "execution_count": 292,
   "id": "0b1ca01a",
   "metadata": {},
   "outputs": [
    {
     "data": {
      "text/plain": [
       "<AxesSubplot:title={'center':'mean_grade'}, xlabel='[lec_wached]'>"
      ]
     },
     "execution_count": 292,
     "metadata": {},
     "output_type": "execute_result"
    },
    {
     "data": {
      "image/png": "[encoded data removed]",
      "text/plain": [
       "<Figure size 432x288 with 1 Axes>"
      ]
     },
     "metadata": {
      "needs_background": "light"
     },
     "output_type": "display_data"
    }
   ],
   "source": [
    "\"\"\"\n",
    "Построим диаграмму размаха, показывающую зависимость правильных ответов от кол-ва просмотренных лекций\n",
    "\"\"\"\n",
    "studenst_df[studenst_df['lec_wached'] < 21].boxplot(column=['mean_grade'], by=['lec_wached'])\n",
    "\n"
   ]
  },
  {
   "cell_type": "code",
   "execution_count": 248,
   "id": "d56208df",
   "metadata": {},
   "outputs": [
    {
     "data": {
      "text/plain": [
       "<AxesSubplot:xlabel='qv_time', ylabel='mean_grade'>"
      ]
     },
     "metadata": {},
     "output_type": "display_data"
    },
    {
     "data": {
      "text/plain": [
       "'\\nНет очевидной прямой зависимость среднего балла студента, от скорости ответа на вопрос. \\n\\nОднако мы можем наблюдать эффективный коридод фактически полностью повторяющий медианое значение,\\nс учетом стандартного отклонения. Студенты отвечающие на вопросы быстрее этих границ или существенно дольше \\nимееют более низкий балл. \\n\\nМожно сформировать гиппотезу, что студенты затрачивающие больше времени на подготовку ответа менее подготовлены.\\nЛибо менее мотивированы. \\nТо же самое моно сказать о студентах слишком быстро предоставляющих ответы на вопросы.\\n\\n'"
      ]
     },
     "execution_count": 248,
     "metadata": {},
     "output_type": "execute_result"
    },
    {
     "data": {
      "image/png": "[encoded data removed]",
      "text/plain": [
       "<Figure size 432x288 with 1 Axes>"
      ]
     },
     "metadata": {
      "needs_background": "light"
     },
     "output_type": "display_data"
    }
   ],
   "source": [
    "display(studenst_df)xlabel='qv_time', ylabel='mean_grade'\n",
    "\n",
    "'''\n",
    "Нет очевидной прямой зависимость среднего балла студента, от скорости ответа на вопрос. \n",
    "\n",
    "Однако мы можем наблюдать эффективный коридод фактически полностью повторяющий медианое значение,\n",
    "с учетом стандартного отклонения. Студенты отвечающие на вопросы быстрее этих границ или существенно дольше \n",
    "имееют более низкий балл. \n",
    "\n",
    "Можно сформировать гиппотезу, что студенты затрачивающие больше времени на подготовку ответа менее подготовлены.\n",
    "Либо менее мотивированы. \n",
    "То же самое моно сказать о студентах слишком быстро предоставляющих ответы на вопросы.\n",
    "\n",
    "'''"
   ]
  },
  {
   "cell_type": "code",
   "execution_count": 277,
   "id": "5b120e28",
   "metadata": {},
   "outputs": [
    {
     "data": {
      "text/plain": [
       "<AxesSubplot:xlabel='all_time', ylabel='mean_grade'>"
      ]
     },
     "execution_count": 277,
     "metadata": {},
     "output_type": "execute_result"
    },
    {
     "data": {
      "image/png": "[encoded data removed]",
      "text/plain": [
       "<Figure size 432x288 with 1 Axes>"
      ]
     },
     "metadata": {
      "needs_background": "light"
     },
     "output_type": "display_data"
    }
   ],
   "source": [
    "# Прямой зависимости - среднего балла ко времени проведенному на портале не наблюдается.\n",
    "\n",
    "studenst_df[studenst_df['all_time']>90000].plot(x='all_time', y='mean_grade',kind=\"scatter\")"
   ]
  },
  {
   "cell_type": "code",
   "execution_count": 240,
   "id": "3104a999",
   "metadata": {},
   "outputs": [
    {
     "data": {
      "text/plain": [
       "<AxesSubplot:>"
      ]
     },
     "execution_count": 240,
     "metadata": {},
     "output_type": "execute_result"
    },
    {
     "data": {
      "image/png": "[encoded data removed]",
      "text/plain": [
       "<Figure size 432x288 with 1 Axes>"
      ]
     },
     "metadata": {
      "needs_background": "light"
     },
     "output_type": "display_data"
    }
   ],
   "source": [
    "# посмотрим на гистограмму распределения оценок среди студентов\n",
    "studenst_df['mean_grade'].hist(bins=10)"
   ]
  },
  {
   "cell_type": "code",
   "execution_count": 278,
   "id": "f13b30c4",
   "metadata": {},
   "outputs": [
    {
     "data": {
      "text/plain": [
       "<AxesSubplot:xlabel='mean_grade', ylabel='exp_qv'>"
      ]
     },
     "execution_count": 278,
     "metadata": {},
     "output_type": "execute_result"
    },
    {
     "data": {
      "image/png": "[encoded data removed]",
      "text/plain": [
       "<Figure size 432x288 with 1 Axes>"
      ]
     },
     "metadata": {
      "needs_background": "light"
     },
     "output_type": "display_data"
    }
   ],
   "source": [
    "\"\"\"\n",
    "построим диаграмму рассеивания и попробуем найти зависимость между долей верных ответов и консультаций.\n",
    "Можно предположить, что студенты анализирующие ответы на предыдущие вопросы имеют средний бал выше.\n",
    "Что подтверждает гиппотезу заявленную выше.\n",
    "\"\"\"\n",
    "\n",
    "studenst_df.plot(x='mean_grade', y='exp_qv',kind=\"scatter\",c='green')\n"
   ]
  },
  {
   "cell_type": "code",
   "execution_count": 255,
   "id": "87f8909f",
   "metadata": {},
   "outputs": [
    {
     "name": "stdout",
     "output_type": "stream",
     "text": [
      "<class 'pandas.core.frame.DataFrame'>\n",
      "RangeIndex: 3824 entries, 0 to 3823\n",
      "Data columns (total 7 columns):\n",
      " #   Column      Non-Null Count  Dtype  \n",
      "---  ------      --------------  -----  \n",
      " 0   user id     3824 non-null   int64  \n",
      " 1   qv_time     3822 non-null   float64\n",
      " 2   mean_grade  3824 non-null   float64\n",
      " 3   all_time    3824 non-null   float64\n",
      " 4   ques_quant  3824 non-null   int64  \n",
      " 5   lec_wached  3824 non-null   int64  \n",
      " 6   exp_qv      3824 non-null   int64  \n",
      "dtypes: float64(3), int64(4)\n",
      "memory usage: 209.2 KB\n"
     ]
    }
   ],
   "source": [
    "studenst_df.info()"
   ]
  },
  {
   "cell_type": "markdown",
   "id": "5fd92bc2",
   "metadata": {},
   "source": [
    "### Проверяем данные во вспомогательных таблицах"
   ]
  },
  {
   "cell_type": "markdown",
   "id": "3b1ddadb",
   "metadata": {},
   "source": [
    "**QUESTIONS.CSV: МЕТАДАННЫЕ ДЛЯ ВОПРОСОВ, ЗАДАННЫХ ПОЛЬЗОВАТЕЛЯМ.**\n",
    "\n",
    "* **question_id**: внешний ключ для столбца train/test content_id, когда тип содержимого - question (0).\n",
    "* **bundle_id**: код, по которому вопросы объединяются в группы 9675 групп вопросов\n",
    "* **correct_answer**: ответ на вопрос. Можно сравнить со столбцом train user_answer, чтобы проверить, был ли пользователь прав. # *не информативно для нас, поскольку есть данные в основной таблице*\n",
    "* **part**: соответствующий раздел теста TOEIC. Всего 7 разделов теста. \n",
    "* **tags**: один или несколько подробных кодов тегов для вопроса. Значение тегов предоставлено не будет, но этих кодов достаточно для объединения вопросов воедино."
   ]
  },
  {
   "cell_type": "code",
   "execution_count": 284,
   "id": "e49f168a",
   "metadata": {},
   "outputs": [
    {
     "name": "stdout",
     "output_type": "stream",
     "text": [
      "<class 'pandas.core.frame.DataFrame'>\n",
      "RangeIndex: 13523 entries, 0 to 13522\n",
      "Data columns (total 4 columns):\n",
      " #   Column       Non-Null Count  Dtype \n",
      "---  ------       --------------  ----- \n",
      " 0   question_id  13523 non-null  int64 \n",
      " 1   bundle_id    13523 non-null  int64 \n",
      " 2   part         13523 non-null  int64 \n",
      " 3   tags         13522 non-null  object\n",
      "dtypes: int64(3), object(1)\n",
      "memory usage: 422.7+ KB\n"
     ]
    }
   ],
   "source": [
    "questions_df.info()"
   ]
  },
  {
   "cell_type": "code",
   "execution_count": 87,
   "id": "b22a45d7",
   "metadata": {},
   "outputs": [
    {
     "data": {
      "text/plain": [
       "1519"
      ]
     },
     "execution_count": 87,
     "metadata": {},
     "output_type": "execute_result"
    }
   ],
   "source": [
    "questions_df['tags'].nunique()"
   ]
  },
  {
   "cell_type": "markdown",
   "id": "aeec40e8",
   "metadata": {},
   "source": [
    "Можем удалить в этой таблице поле верный ответ. Поскольку оно является излишним.correct_answer в основной таблице мы уже получили данные о том, верно или нет отвечал пользователь. Номер ответа. значения в данных, на мой взгляд не имеет"
   ]
  },
  {
   "cell_type": "code",
   "execution_count": 283,
   "id": "cb8cb7d7",
   "metadata": {},
   "outputs": [],
   "source": [
    "questions_df=questions_df.drop(['correct_answer'],axis=1)"
   ]
  },
  {
   "cell_type": "code",
   "execution_count": 17,
   "id": "db43a687",
   "metadata": {},
   "outputs": [
    {
     "data": {
      "text/html": [
       "<div>\n",
       "<style scoped>\n",
       "    .dataframe tbody tr th:only-of-type {\n",
       "        vertical-align: middle;\n",
       "    }\n",
       "\n",
       "    .dataframe tbody tr th {\n",
       "        vertical-align: top;\n",
       "    }\n",
       "\n",
       "    .dataframe thead th {\n",
       "        text-align: right;\n",
       "    }\n",
       "</style>\n",
       "<table border=\"1\" class=\"dataframe\">\n",
       "  <thead>\n",
       "    <tr style=\"text-align: right;\">\n",
       "      <th></th>\n",
       "      <th>tags</th>\n",
       "      <th>part</th>\n",
       "      <th>question_id</th>\n",
       "    </tr>\n",
       "  </thead>\n",
       "  <tbody>\n",
       "    <tr>\n",
       "      <th>0</th>\n",
       "      <td>1</td>\n",
       "      <td>413</td>\n",
       "      <td>413</td>\n",
       "    </tr>\n",
       "    <tr>\n",
       "      <th>1</th>\n",
       "      <td>1 162</td>\n",
       "      <td>9</td>\n",
       "      <td>9</td>\n",
       "    </tr>\n",
       "    <tr>\n",
       "      <th>2</th>\n",
       "      <td>10 111 92</td>\n",
       "      <td>1</td>\n",
       "      <td>1</td>\n",
       "    </tr>\n",
       "    <tr>\n",
       "      <th>3</th>\n",
       "      <td>10 164 102</td>\n",
       "      <td>1</td>\n",
       "      <td>1</td>\n",
       "    </tr>\n",
       "    <tr>\n",
       "      <th>4</th>\n",
       "      <td>10 164 162 29</td>\n",
       "      <td>1</td>\n",
       "      <td>1</td>\n",
       "    </tr>\n",
       "    <tr>\n",
       "      <th>...</th>\n",
       "      <td>...</td>\n",
       "      <td>...</td>\n",
       "      <td>...</td>\n",
       "    </tr>\n",
       "    <tr>\n",
       "      <th>1514</th>\n",
       "      <td>98 97 21</td>\n",
       "      <td>11</td>\n",
       "      <td>11</td>\n",
       "    </tr>\n",
       "    <tr>\n",
       "      <th>1515</th>\n",
       "      <td>98 97 35 117 122 162</td>\n",
       "      <td>2</td>\n",
       "      <td>2</td>\n",
       "    </tr>\n",
       "    <tr>\n",
       "      <th>1516</th>\n",
       "      <td>98 97 35 146 122</td>\n",
       "      <td>6</td>\n",
       "      <td>6</td>\n",
       "    </tr>\n",
       "    <tr>\n",
       "      <th>1517</th>\n",
       "      <td>98 97 46 135</td>\n",
       "      <td>2</td>\n",
       "      <td>2</td>\n",
       "    </tr>\n",
       "    <tr>\n",
       "      <th>1518</th>\n",
       "      <td>98 97 77 135 162</td>\n",
       "      <td>3</td>\n",
       "      <td>3</td>\n",
       "    </tr>\n",
       "  </tbody>\n",
       "</table>\n",
       "<p>1519 rows × 3 columns</p>\n",
       "</div>"
      ],
      "text/plain": [
       "                      tags  part  question_id\n",
       "0                        1   413          413\n",
       "1                    1 162     9            9\n",
       "2                10 111 92     1            1\n",
       "3               10 164 102     1            1\n",
       "4            10 164 162 29     1            1\n",
       "...                    ...   ...          ...\n",
       "1514              98 97 21    11           11\n",
       "1515  98 97 35 117 122 162     2            2\n",
       "1516      98 97 35 146 122     6            6\n",
       "1517          98 97 46 135     2            2\n",
       "1518      98 97 77 135 162     3            3\n",
       "\n",
       "[1519 rows x 3 columns]"
      ]
     },
     "execution_count": 17,
     "metadata": {},
     "output_type": "execute_result"
    }
   ],
   "source": [
    "questions_df[['tags','part','question_id']].groupby(['tags'], as_index=False).count().sort_values(['tags','part'])"
   ]
  },
  {
   "cell_type": "code",
   "execution_count": 314,
   "id": "7c77a04f",
   "metadata": {},
   "outputs": [
    {
     "data": {
      "text/html": [
       "<div>\n",
       "<style scoped>\n",
       "    .dataframe tbody tr th:only-of-type {\n",
       "        vertical-align: middle;\n",
       "    }\n",
       "\n",
       "    .dataframe tbody tr th {\n",
       "        vertical-align: top;\n",
       "    }\n",
       "\n",
       "    .dataframe thead th {\n",
       "        text-align: right;\n",
       "    }\n",
       "</style>\n",
       "<table border=\"1\" class=\"dataframe\">\n",
       "  <thead>\n",
       "    <tr style=\"text-align: right;\">\n",
       "      <th></th>\n",
       "      <th>content_id</th>\n",
       "      <th>answered_correctly</th>\n",
       "      <th>question_id</th>\n",
       "      <th>bundle_id</th>\n",
       "      <th>part</th>\n",
       "      <th>tags</th>\n",
       "    </tr>\n",
       "  </thead>\n",
       "  <tbody>\n",
       "    <tr>\n",
       "      <th>0</th>\n",
       "      <td>0.0</td>\n",
       "      <td>1</td>\n",
       "      <td>0</td>\n",
       "      <td>0</td>\n",
       "      <td>1</td>\n",
       "      <td>51 131 162 38</td>\n",
       "    </tr>\n",
       "    <tr>\n",
       "      <th>1</th>\n",
       "      <td>0.0</td>\n",
       "      <td>1</td>\n",
       "      <td>0</td>\n",
       "      <td>0</td>\n",
       "      <td>1</td>\n",
       "      <td>51 131 162 38</td>\n",
       "    </tr>\n",
       "    <tr>\n",
       "      <th>2</th>\n",
       "      <td>0.0</td>\n",
       "      <td>1</td>\n",
       "      <td>0</td>\n",
       "      <td>0</td>\n",
       "      <td>1</td>\n",
       "      <td>51 131 162 38</td>\n",
       "    </tr>\n",
       "    <tr>\n",
       "      <th>3</th>\n",
       "      <td>0.0</td>\n",
       "      <td>1</td>\n",
       "      <td>0</td>\n",
       "      <td>0</td>\n",
       "      <td>1</td>\n",
       "      <td>51 131 162 38</td>\n",
       "    </tr>\n",
       "    <tr>\n",
       "      <th>4</th>\n",
       "      <td>0.0</td>\n",
       "      <td>1</td>\n",
       "      <td>0</td>\n",
       "      <td>0</td>\n",
       "      <td>1</td>\n",
       "      <td>51 131 162 38</td>\n",
       "    </tr>\n",
       "    <tr>\n",
       "      <th>...</th>\n",
       "      <td>...</td>\n",
       "      <td>...</td>\n",
       "      <td>...</td>\n",
       "      <td>...</td>\n",
       "      <td>...</td>\n",
       "      <td>...</td>\n",
       "    </tr>\n",
       "    <tr>\n",
       "      <th>980535</th>\n",
       "      <td>13522.0</td>\n",
       "      <td>0</td>\n",
       "      <td>13522</td>\n",
       "      <td>13522</td>\n",
       "      <td>5</td>\n",
       "      <td>55</td>\n",
       "    </tr>\n",
       "    <tr>\n",
       "      <th>980536</th>\n",
       "      <td>13522.0</td>\n",
       "      <td>1</td>\n",
       "      <td>13522</td>\n",
       "      <td>13522</td>\n",
       "      <td>5</td>\n",
       "      <td>55</td>\n",
       "    </tr>\n",
       "    <tr>\n",
       "      <th>980537</th>\n",
       "      <td>13522.0</td>\n",
       "      <td>1</td>\n",
       "      <td>13522</td>\n",
       "      <td>13522</td>\n",
       "      <td>5</td>\n",
       "      <td>55</td>\n",
       "    </tr>\n",
       "    <tr>\n",
       "      <th>980538</th>\n",
       "      <td>13522.0</td>\n",
       "      <td>1</td>\n",
       "      <td>13522</td>\n",
       "      <td>13522</td>\n",
       "      <td>5</td>\n",
       "      <td>55</td>\n",
       "    </tr>\n",
       "    <tr>\n",
       "      <th>980539</th>\n",
       "      <td>13522.0</td>\n",
       "      <td>1</td>\n",
       "      <td>13522</td>\n",
       "      <td>13522</td>\n",
       "      <td>5</td>\n",
       "      <td>55</td>\n",
       "    </tr>\n",
       "  </tbody>\n",
       "</table>\n",
       "<p>980540 rows × 6 columns</p>\n",
       "</div>"
      ],
      "text/plain": [
       "        content_id answered_correctly  question_id  bundle_id  part  \\\n",
       "0              0.0                  1            0          0     1   \n",
       "1              0.0                  1            0          0     1   \n",
       "2              0.0                  1            0          0     1   \n",
       "3              0.0                  1            0          0     1   \n",
       "4              0.0                  1            0          0     1   \n",
       "...            ...                ...          ...        ...   ...   \n",
       "980535     13522.0                  0        13522      13522     5   \n",
       "980536     13522.0                  1        13522      13522     5   \n",
       "980537     13522.0                  1        13522      13522     5   \n",
       "980538     13522.0                  1        13522      13522     5   \n",
       "980539     13522.0                  1        13522      13522     5   \n",
       "\n",
       "                 tags  \n",
       "0       51 131 162 38  \n",
       "1       51 131 162 38  \n",
       "2       51 131 162 38  \n",
       "3       51 131 162 38  \n",
       "4       51 131 162 38  \n",
       "...               ...  \n",
       "980535             55  \n",
       "980536             55  \n",
       "980537             55  \n",
       "980538             55  \n",
       "980539             55  \n",
       "\n",
       "[980540 rows x 6 columns]"
      ]
     },
     "metadata": {},
     "output_type": "display_data"
    }
   ],
   "source": [
    "'''\n",
    "проведем обьединение таблицы с вопросами с целью провети оценку сложности каждого блока вопросов\n",
    "'''\n",
    "\n",
    "tmp_df = train_df.loc[(train_df.content_type_id == 0), ['content_id', 'answered_correctly']]\n",
    "mtmt_df=tmp_df.merge(questions_df, how = 'right',left_on='content_id', right_on='question_id')\n",
    "display(mtmt_df)"
   ]
  },
  {
   "cell_type": "code",
   "execution_count": 319,
   "id": "0dc97a08",
   "metadata": {},
   "outputs": [],
   "source": [
    "mtmt_df['answered_correctly']=mtmt_df['answered_correctly'].astype('float')"
   ]
  },
  {
   "cell_type": "code",
   "execution_count": 323,
   "id": "9b159ddd",
   "metadata": {},
   "outputs": [
    {
     "data": {
      "text/html": [
       "<div>\n",
       "<style scoped>\n",
       "    .dataframe tbody tr th:only-of-type {\n",
       "        vertical-align: middle;\n",
       "    }\n",
       "\n",
       "    .dataframe tbody tr th {\n",
       "        vertical-align: top;\n",
       "    }\n",
       "\n",
       "    .dataframe thead th {\n",
       "        text-align: right;\n",
       "    }\n",
       "</style>\n",
       "<table border=\"1\" class=\"dataframe\">\n",
       "  <thead>\n",
       "    <tr style=\"text-align: right;\">\n",
       "      <th></th>\n",
       "      <th>part</th>\n",
       "      <th>answered_correctly</th>\n",
       "    </tr>\n",
       "  </thead>\n",
       "  <tbody>\n",
       "    <tr>\n",
       "      <th>0</th>\n",
       "      <td>1</td>\n",
       "      <td>0.735834</td>\n",
       "    </tr>\n",
       "    <tr>\n",
       "      <th>1</th>\n",
       "      <td>2</td>\n",
       "      <td>0.707258</td>\n",
       "    </tr>\n",
       "    <tr>\n",
       "      <th>2</th>\n",
       "      <td>3</td>\n",
       "      <td>0.692096</td>\n",
       "    </tr>\n",
       "    <tr>\n",
       "      <th>3</th>\n",
       "      <td>4</td>\n",
       "      <td>0.620959</td>\n",
       "    </tr>\n",
       "    <tr>\n",
       "      <th>4</th>\n",
       "      <td>5</td>\n",
       "      <td>0.606321</td>\n",
       "    </tr>\n",
       "    <tr>\n",
       "      <th>5</th>\n",
       "      <td>6</td>\n",
       "      <td>0.650695</td>\n",
       "    </tr>\n",
       "    <tr>\n",
       "      <th>6</th>\n",
       "      <td>7</td>\n",
       "      <td>0.645141</td>\n",
       "    </tr>\n",
       "  </tbody>\n",
       "</table>\n",
       "</div>"
      ],
      "text/plain": [
       "   part  answered_correctly\n",
       "0     1            0.735834\n",
       "1     2            0.707258\n",
       "2     3            0.692096\n",
       "3     4            0.620959\n",
       "4     5            0.606321\n",
       "5     6            0.650695\n",
       "6     7            0.645141"
      ]
     },
     "execution_count": 323,
     "metadata": {},
     "output_type": "execute_result"
    }
   ],
   "source": [
    "'''\n",
    "Можно сделать вывод, что по мере продвижения, от части к части сложность вопросов растет - это можно увидеть \n",
    "из снижающегося среднего балла. На основе нашей выборки. (для снижения нагрузки на процессор загружено 10000000 строк) \n",
    "'''\n",
    "\n",
    "mtmt_df[['part','answered_correctly']].groupby(['part'], as_index=False).mean().sort_values(['part','answered_correctly',])"
   ]
  },
  {
   "cell_type": "code",
   "execution_count": 328,
   "id": "7b615453",
   "metadata": {},
   "outputs": [
    {
     "data": {
      "text/html": [
       "<div>\n",
       "<style scoped>\n",
       "    .dataframe tbody tr th:only-of-type {\n",
       "        vertical-align: middle;\n",
       "    }\n",
       "\n",
       "    .dataframe tbody tr th {\n",
       "        vertical-align: top;\n",
       "    }\n",
       "\n",
       "    .dataframe thead tr th {\n",
       "        text-align: left;\n",
       "    }\n",
       "</style>\n",
       "<table border=\"1\" class=\"dataframe\">\n",
       "  <thead>\n",
       "    <tr>\n",
       "      <th></th>\n",
       "      <th colspan=\"8\" halign=\"left\">part</th>\n",
       "      <th colspan=\"8\" halign=\"left\">answered_correctly</th>\n",
       "    </tr>\n",
       "    <tr>\n",
       "      <th></th>\n",
       "      <th>count</th>\n",
       "      <th>mean</th>\n",
       "      <th>std</th>\n",
       "      <th>min</th>\n",
       "      <th>25%</th>\n",
       "      <th>50%</th>\n",
       "      <th>75%</th>\n",
       "      <th>max</th>\n",
       "      <th>count</th>\n",
       "      <th>mean</th>\n",
       "      <th>std</th>\n",
       "      <th>min</th>\n",
       "      <th>25%</th>\n",
       "      <th>50%</th>\n",
       "      <th>75%</th>\n",
       "      <th>max</th>\n",
       "    </tr>\n",
       "  </thead>\n",
       "  <tbody>\n",
       "    <tr>\n",
       "      <th>0</th>\n",
       "      <td>69499.0</td>\n",
       "      <td>1.0</td>\n",
       "      <td>0.0</td>\n",
       "      <td>1.0</td>\n",
       "      <td>1.0</td>\n",
       "      <td>1.0</td>\n",
       "      <td>1.0</td>\n",
       "      <td>1.0</td>\n",
       "      <td>69411.0</td>\n",
       "      <td>0.735834</td>\n",
       "      <td>0.440891</td>\n",
       "      <td>0.0</td>\n",
       "      <td>0.0</td>\n",
       "      <td>1.0</td>\n",
       "      <td>1.0</td>\n",
       "      <td>1.0</td>\n",
       "    </tr>\n",
       "    <tr>\n",
       "      <th>1</th>\n",
       "      <td>190740.0</td>\n",
       "      <td>2.0</td>\n",
       "      <td>0.0</td>\n",
       "      <td>2.0</td>\n",
       "      <td>2.0</td>\n",
       "      <td>2.0</td>\n",
       "      <td>2.0</td>\n",
       "      <td>2.0</td>\n",
       "      <td>190731.0</td>\n",
       "      <td>0.707258</td>\n",
       "      <td>0.455022</td>\n",
       "      <td>0.0</td>\n",
       "      <td>0.0</td>\n",
       "      <td>1.0</td>\n",
       "      <td>1.0</td>\n",
       "      <td>1.0</td>\n",
       "    </tr>\n",
       "    <tr>\n",
       "      <th>2</th>\n",
       "      <td>82274.0</td>\n",
       "      <td>3.0</td>\n",
       "      <td>0.0</td>\n",
       "      <td>3.0</td>\n",
       "      <td>3.0</td>\n",
       "      <td>3.0</td>\n",
       "      <td>3.0</td>\n",
       "      <td>3.0</td>\n",
       "      <td>82175.0</td>\n",
       "      <td>0.692096</td>\n",
       "      <td>0.461629</td>\n",
       "      <td>0.0</td>\n",
       "      <td>0.0</td>\n",
       "      <td>1.0</td>\n",
       "      <td>1.0</td>\n",
       "      <td>1.0</td>\n",
       "    </tr>\n",
       "    <tr>\n",
       "      <th>3</th>\n",
       "      <td>76141.0</td>\n",
       "      <td>4.0</td>\n",
       "      <td>0.0</td>\n",
       "      <td>4.0</td>\n",
       "      <td>4.0</td>\n",
       "      <td>4.0</td>\n",
       "      <td>4.0</td>\n",
       "      <td>4.0</td>\n",
       "      <td>75997.0</td>\n",
       "      <td>0.620959</td>\n",
       "      <td>0.485152</td>\n",
       "      <td>0.0</td>\n",
       "      <td>0.0</td>\n",
       "      <td>1.0</td>\n",
       "      <td>1.0</td>\n",
       "      <td>1.0</td>\n",
       "    </tr>\n",
       "    <tr>\n",
       "      <th>4</th>\n",
       "      <td>403284.0</td>\n",
       "      <td>5.0</td>\n",
       "      <td>0.0</td>\n",
       "      <td>5.0</td>\n",
       "      <td>5.0</td>\n",
       "      <td>5.0</td>\n",
       "      <td>5.0</td>\n",
       "      <td>5.0</td>\n",
       "      <td>403240.0</td>\n",
       "      <td>0.606321</td>\n",
       "      <td>0.488566</td>\n",
       "      <td>0.0</td>\n",
       "      <td>0.0</td>\n",
       "      <td>1.0</td>\n",
       "      <td>1.0</td>\n",
       "      <td>1.0</td>\n",
       "    </tr>\n",
       "    <tr>\n",
       "      <th>5</th>\n",
       "      <td>108572.0</td>\n",
       "      <td>6.0</td>\n",
       "      <td>0.0</td>\n",
       "      <td>6.0</td>\n",
       "      <td>6.0</td>\n",
       "      <td>6.0</td>\n",
       "      <td>6.0</td>\n",
       "      <td>6.0</td>\n",
       "      <td>108567.0</td>\n",
       "      <td>0.650695</td>\n",
       "      <td>0.476753</td>\n",
       "      <td>0.0</td>\n",
       "      <td>0.0</td>\n",
       "      <td>1.0</td>\n",
       "      <td>1.0</td>\n",
       "      <td>1.0</td>\n",
       "    </tr>\n",
       "    <tr>\n",
       "      <th>6</th>\n",
       "      <td>50030.0</td>\n",
       "      <td>7.0</td>\n",
       "      <td>0.0</td>\n",
       "      <td>7.0</td>\n",
       "      <td>7.0</td>\n",
       "      <td>7.0</td>\n",
       "      <td>7.0</td>\n",
       "      <td>7.0</td>\n",
       "      <td>49972.0</td>\n",
       "      <td>0.645141</td>\n",
       "      <td>0.478475</td>\n",
       "      <td>0.0</td>\n",
       "      <td>0.0</td>\n",
       "      <td>1.0</td>\n",
       "      <td>1.0</td>\n",
       "      <td>1.0</td>\n",
       "    </tr>\n",
       "  </tbody>\n",
       "</table>\n",
       "</div>"
      ],
      "text/plain": [
       "       part                                    answered_correctly            \\\n",
       "      count mean  std  min  25%  50%  75%  max              count      mean   \n",
       "0   69499.0  1.0  0.0  1.0  1.0  1.0  1.0  1.0            69411.0  0.735834   \n",
       "1  190740.0  2.0  0.0  2.0  2.0  2.0  2.0  2.0           190731.0  0.707258   \n",
       "2   82274.0  3.0  0.0  3.0  3.0  3.0  3.0  3.0            82175.0  0.692096   \n",
       "3   76141.0  4.0  0.0  4.0  4.0  4.0  4.0  4.0            75997.0  0.620959   \n",
       "4  403284.0  5.0  0.0  5.0  5.0  5.0  5.0  5.0           403240.0  0.606321   \n",
       "5  108572.0  6.0  0.0  6.0  6.0  6.0  6.0  6.0           108567.0  0.650695   \n",
       "6   50030.0  7.0  0.0  7.0  7.0  7.0  7.0  7.0            49972.0  0.645141   \n",
       "\n",
       "                                      \n",
       "        std  min  25%  50%  75%  max  \n",
       "0  0.440891  0.0  0.0  1.0  1.0  1.0  \n",
       "1  0.455022  0.0  0.0  1.0  1.0  1.0  \n",
       "2  0.461629  0.0  0.0  1.0  1.0  1.0  \n",
       "3  0.485152  0.0  0.0  1.0  1.0  1.0  \n",
       "4  0.488566  0.0  0.0  1.0  1.0  1.0  \n",
       "5  0.476753  0.0  0.0  1.0  1.0  1.0  \n",
       "6  0.478475  0.0  0.0  1.0  1.0  1.0  "
      ]
     },
     "execution_count": 328,
     "metadata": {},
     "output_type": "execute_result"
    }
   ],
   "source": [
    "mtmt_df[['part','answered_correctly']].groupby(['part'], as_index=False).describe()\n",
    "\n",
    "'''\n",
    "7 частей заданий имеют не равномерное количество вопросов. Учитывая, что у нас нет данных о влиянии ответа \n",
    "можем предположить, что наибольшее влияние на итоговый средний бал оказывает блок номер 4. Так как содержит \n",
    "наибольшее количество вопросов. \n",
    "'''"
   ]
  },
  {
   "cell_type": "code",
   "execution_count": 322,
   "id": "feb7cbc8",
   "metadata": {},
   "outputs": [
    {
     "data": {
      "text/plain": [
       "<pandas.core.groupby.generic.DataFrameGroupBy object at 0x7fe41ce8d040>"
      ]
     },
     "execution_count": 322,
     "metadata": {},
     "output_type": "execute_result"
    }
   ],
   "source": [
    "mtmt_dfgroupby('part')"
   ]
  },
  {
   "cell_type": "markdown",
   "id": "3c81b27c",
   "metadata": {},
   "source": [
    "**LECTURES.CSV: МЕТАДАННЫЕ ДЛЯ ЛЕКЦИЙ, КОТОРЫЕ ПРОСМАТРИВАЮТ ПОЛЬЗОВАТЕЛИ ПО МЕРЕ ПРОДВИЖЕНИЯ В СВОЕМ ОБРАЗОВАНИИ.**\n",
    "\n",
    "* **lecture_id**: внешний ключ для столбца train/test content_id, когда тип содержимого - lecture (1).\n",
    "* **part**: код категории верхнего уровня для лекции.\n",
    "* **tags**: один тег кодирует лекцию. Значение тегов не будет указано, но этих кодов достаточно для объединения лекций в кластеры.\n",
    "* **type_of**: краткое описание основной цели лекции."
   ]
  },
  {
   "cell_type": "code",
   "execution_count": 38,
   "id": "771f3af4",
   "metadata": {},
   "outputs": [
    {
     "name": "stdout",
     "output_type": "stream",
     "text": [
      "<class 'pandas.core.frame.DataFrame'>\n",
      "RangeIndex: 418 entries, 0 to 417\n",
      "Data columns (total 4 columns):\n",
      " #   Column      Non-Null Count  Dtype \n",
      "---  ------      --------------  ----- \n",
      " 0   lecture_id  418 non-null    int64 \n",
      " 1   tag         418 non-null    int64 \n",
      " 2   part        418 non-null    int64 \n",
      " 3   type_of     418 non-null    object\n",
      "dtypes: int64(3), object(1)\n",
      "memory usage: 13.2+ KB\n"
     ]
    }
   ],
   "source": [
    "lectures_df.info()"
   ]
  },
  {
   "cell_type": "code",
   "execution_count": 333,
   "id": "8d333fe8",
   "metadata": {},
   "outputs": [
    {
     "data": {
      "text/html": [
       "<div>\n",
       "<style scoped>\n",
       "    .dataframe tbody tr th:only-of-type {\n",
       "        vertical-align: middle;\n",
       "    }\n",
       "\n",
       "    .dataframe tbody tr th {\n",
       "        vertical-align: top;\n",
       "    }\n",
       "\n",
       "    .dataframe thead th {\n",
       "        text-align: right;\n",
       "    }\n",
       "</style>\n",
       "<table border=\"1\" class=\"dataframe\">\n",
       "  <thead>\n",
       "    <tr style=\"text-align: right;\">\n",
       "      <th></th>\n",
       "      <th>type_of</th>\n",
       "      <th>part</th>\n",
       "      <th>lecture_id</th>\n",
       "      <th>tag</th>\n",
       "    </tr>\n",
       "  </thead>\n",
       "  <tbody>\n",
       "    <tr>\n",
       "      <th>0</th>\n",
       "      <td>concept</td>\n",
       "      <td>1</td>\n",
       "      <td>20</td>\n",
       "      <td>20</td>\n",
       "    </tr>\n",
       "    <tr>\n",
       "      <th>1</th>\n",
       "      <td>concept</td>\n",
       "      <td>2</td>\n",
       "      <td>18</td>\n",
       "      <td>18</td>\n",
       "    </tr>\n",
       "    <tr>\n",
       "      <th>2</th>\n",
       "      <td>concept</td>\n",
       "      <td>3</td>\n",
       "      <td>7</td>\n",
       "      <td>7</td>\n",
       "    </tr>\n",
       "    <tr>\n",
       "      <th>3</th>\n",
       "      <td>concept</td>\n",
       "      <td>4</td>\n",
       "      <td>19</td>\n",
       "      <td>19</td>\n",
       "    </tr>\n",
       "    <tr>\n",
       "      <th>4</th>\n",
       "      <td>concept</td>\n",
       "      <td>5</td>\n",
       "      <td>72</td>\n",
       "      <td>72</td>\n",
       "    </tr>\n",
       "    <tr>\n",
       "      <th>5</th>\n",
       "      <td>concept</td>\n",
       "      <td>6</td>\n",
       "      <td>63</td>\n",
       "      <td>63</td>\n",
       "    </tr>\n",
       "    <tr>\n",
       "      <th>6</th>\n",
       "      <td>concept</td>\n",
       "      <td>7</td>\n",
       "      <td>23</td>\n",
       "      <td>23</td>\n",
       "    </tr>\n",
       "    <tr>\n",
       "      <th>7</th>\n",
       "      <td>intention</td>\n",
       "      <td>2</td>\n",
       "      <td>7</td>\n",
       "      <td>7</td>\n",
       "    </tr>\n",
       "    <tr>\n",
       "      <th>8</th>\n",
       "      <td>solving question</td>\n",
       "      <td>1</td>\n",
       "      <td>34</td>\n",
       "      <td>34</td>\n",
       "    </tr>\n",
       "    <tr>\n",
       "      <th>9</th>\n",
       "      <td>solving question</td>\n",
       "      <td>2</td>\n",
       "      <td>31</td>\n",
       "      <td>31</td>\n",
       "    </tr>\n",
       "    <tr>\n",
       "      <th>10</th>\n",
       "      <td>solving question</td>\n",
       "      <td>3</td>\n",
       "      <td>12</td>\n",
       "      <td>12</td>\n",
       "    </tr>\n",
       "    <tr>\n",
       "      <th>11</th>\n",
       "      <td>solving question</td>\n",
       "      <td>4</td>\n",
       "      <td>12</td>\n",
       "      <td>12</td>\n",
       "    </tr>\n",
       "    <tr>\n",
       "      <th>12</th>\n",
       "      <td>solving question</td>\n",
       "      <td>5</td>\n",
       "      <td>69</td>\n",
       "      <td>69</td>\n",
       "    </tr>\n",
       "    <tr>\n",
       "      <th>13</th>\n",
       "      <td>solving question</td>\n",
       "      <td>6</td>\n",
       "      <td>19</td>\n",
       "      <td>19</td>\n",
       "    </tr>\n",
       "    <tr>\n",
       "      <th>14</th>\n",
       "      <td>solving question</td>\n",
       "      <td>7</td>\n",
       "      <td>9</td>\n",
       "      <td>9</td>\n",
       "    </tr>\n",
       "    <tr>\n",
       "      <th>15</th>\n",
       "      <td>starter</td>\n",
       "      <td>5</td>\n",
       "      <td>2</td>\n",
       "      <td>2</td>\n",
       "    </tr>\n",
       "    <tr>\n",
       "      <th>16</th>\n",
       "      <td>starter</td>\n",
       "      <td>6</td>\n",
       "      <td>1</td>\n",
       "      <td>1</td>\n",
       "    </tr>\n",
       "  </tbody>\n",
       "</table>\n",
       "</div>"
      ],
      "text/plain": [
       "             type_of  part  lecture_id  tag\n",
       "0            concept     1          20   20\n",
       "1            concept     2          18   18\n",
       "2            concept     3           7    7\n",
       "3            concept     4          19   19\n",
       "4            concept     5          72   72\n",
       "5            concept     6          63   63\n",
       "6            concept     7          23   23\n",
       "7          intention     2           7    7\n",
       "8   solving question     1          34   34\n",
       "9   solving question     2          31   31\n",
       "10  solving question     3          12   12\n",
       "11  solving question     4          12   12\n",
       "12  solving question     5          69   69\n",
       "13  solving question     6          19   19\n",
       "14  solving question     7           9    9\n",
       "15           starter     5           2    2\n",
       "16           starter     6           1    1"
      ]
     },
     "execution_count": 333,
     "metadata": {},
     "output_type": "execute_result"
    }
   ],
   "source": [
    "lectures_df[['type_of','part','lecture_id','tag']].groupby(['type_of','part'],as_index=False).count().sort_values(by=['type_of','part'])\n",
    "\n",
    "'''\n",
    "В лекциях мы так же как и в вовпросах, видим 7 групп. Делятся на концептуальные лекции, практические занятие, вводные\n",
    "'''\n"
   ]
  },
  {
   "cell_type": "code",
   "execution_count": 347,
   "id": "94ef579d",
   "metadata": {},
   "outputs": [
    {
     "data": {
      "text/plain": [
       "<AxesSubplot:ylabel='type_of'>"
      ]
     },
     "metadata": {},
     "output_type": "display_data"
    },
    {
     "data": {
      "text/plain": [
       "'\\nОсновная доля лекционных материалов - это лекции и решение практических задач. Доля других существенно ниже\\n'"
      ]
     },
     "execution_count": 347,
     "metadata": {},
     "output_type": "execute_result"
    },
    {
     "data": {
      "image/png": "[encoded data removed]",
      "text/plain": [
       "<Figure size 432x288 with 1 Axes>"
      ]
     },
     "metadata": {
      "needs_background": "light"
     },
     "output_type": "display_data"
    }
   ],
   "source": [
    "cat_totals = lectures_df.groupby(\"type_of\")[\"lecture_id\"].count().sort_values()\n",
    "display(cat_totals.plot(kind=\"barh\", fontsize=12))\n",
    "'''\n",
    "Основная доля лекционных материалов - это лекции и решение практических задач. Доля других существенно ниже\n",
    "'''"
   ]
  },
  {
   "cell_type": "code",
   "execution_count": 364,
   "id": "3a2d7aa2",
   "metadata": {},
   "outputs": [
    {
     "data": {
      "text/plain": [
       "<AxesSubplot:xlabel='part', ylabel='Count'>"
      ]
     },
     "execution_count": 364,
     "metadata": {},
     "output_type": "execute_result"
    },
    {
     "data": {
      "image/png": "[encoded data removed]",
      "text/plain": [
       "<Figure size 432x288 with 1 Axes>"
      ]
     },
     "metadata": {
      "needs_background": "light"
     },
     "output_type": "display_data"
    }
   ],
   "source": [
    "# Первые три группы обучения .практико ориентированы. Далее преобладают теоретических занятий \n",
    "sns.histplot(data=lectures_df,x='part', hue = 'type_of', bins=6)"
   ]
  },
  {
   "cell_type": "code",
   "execution_count": null,
   "id": "2d8f47ab",
   "metadata": {},
   "outputs": [],
   "source": []
  }
 ],
 "metadata": {
  "kernelspec": {
   "display_name": "Python 3 (ipykernel)",
   "language": "python",
   "name": "python3"
  },
  "language_info": {
   "codemirror_mode": {
    "name": "ipython",
    "version": 3
   },
   "file_extension": ".py",
   "mimetype": "text/x-python",
   "name": "python",
   "nbconvert_exporter": "python",
   "pygments_lexer": "ipython3",
   "version": "3.9.12"
  }
 },
 "nbformat": 4,
 "nbformat_minor": 5
}
