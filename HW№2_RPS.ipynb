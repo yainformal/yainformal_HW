{
 "cells": [
  {
   "cell_type": "code",
   "execution_count": 1,
   "id": "18d2d38c",
   "metadata": {},
   "outputs": [],
   "source": [
    "!pip install -q -U kaggle_environments"
   ]
  },
  {
   "cell_type": "code",
   "execution_count": 2,
   "id": "6ae6c2fe",
   "metadata": {},
   "outputs": [],
   "source": [
    "import numpy as np\n",
    "import pandas as pd\n",
    "\n",
    "import random\n",
    "\n",
    "import matplotlib.pyplot as plt\n",
    "\n",
    "import seaborn as sns\n",
    "\n",
    "import math\n",
    "\n",
    "from utils import get_score\n",
    "\n",
    "from kaggle_environments import make, evaluate\n",
    "\n"
   ]
  },
  {
   "cell_type": "markdown",
   "id": "40250e95",
   "metadata": {},
   "source": [
    "### 0 Бот статист для оценки результата"
   ]
  },
  {
   "cell_type": "code",
   "execution_count": 3,
   "id": "4c2641e6",
   "metadata": {},
   "outputs": [
    {
     "name": "stdout",
     "output_type": "stream",
     "text": [
      "Overwriting HW_bots/statistical.py\n"
     ]
    }
   ],
   "source": [
    "%%writefile HW_bots/statistical.py\n",
    "\n",
    "import random\n",
    "from utils import get_score\n",
    "\n",
    "action_histogram = {}\n",
    "\n",
    "\n",
    "def statistical(observation, configuration):\n",
    "    global action_histogram\n",
    "    if observation.step == 0:\n",
    "        action_histogram = {}\n",
    "        return\n",
    "    action = observation.lastOpponentAction\n",
    "    if action not in action_histogram:\n",
    "        action_histogram[action] = 0\n",
    "    action_histogram[action] += 1\n",
    "    mode_action = None\n",
    "    mode_action_count = None\n",
    "    for k, v in action_histogram.items():\n",
    "        if mode_action_count is None or v > mode_action_count:\n",
    "            mode_action = k\n",
    "            mode_action_count = v\n",
    "            continue\n",
    "\n",
    "    return (mode_action + 1) % configuration.signs\n"
   ]
  },
  {
   "cell_type": "markdown",
   "id": "e47742eb",
   "metadata": {},
   "source": [
    "### 1. Агент, всегда возвращающий камень"
   ]
  },
  {
   "cell_type": "code",
   "execution_count": 4,
   "id": "4f7ac98a",
   "metadata": {},
   "outputs": [],
   "source": [
    "#%%writefile HW_bots/rock_bot.py\n",
    "\n",
    "def rock_bot(observation, configuration):\n",
    "    return 0 "
   ]
  },
  {
   "cell_type": "markdown",
   "id": "6f557d5b",
   "metadata": {},
   "source": [
    "#### Игра"
   ]
  },
  {
   "cell_type": "code",
   "execution_count": 5,
   "id": "9edd67aa",
   "metadata": {},
   "outputs": [
    {
     "data": {
      "text/plain": [
       "[[-98.0, 98.0]]"
      ]
     },
     "execution_count": 5,
     "metadata": {},
     "output_type": "execute_result"
    }
   ],
   "source": [
    "evaluate(\n",
    "    \"rps\", #environment to use - no need to change\n",
    "    [\"HW_bots/rock_bot.py\", \"HW_bots/statistical.py\"], #agents to evaluate\n",
    "    configuration={\"episodeSteps\": 100} #number of episodes \n",
    ")"
   ]
  },
  {
   "cell_type": "markdown",
   "id": "28f12dd9",
   "metadata": {},
   "source": [
    "### 2. Агент, всегда возвращающий бумагу"
   ]
  },
  {
   "cell_type": "code",
   "execution_count": 6,
   "id": "13d33e00",
   "metadata": {},
   "outputs": [],
   "source": [
    "#%%writefile HW_bots/paper_bot.py\n",
    "def paper_bot(observation, configuration):\n",
    "    return 1 "
   ]
  },
  {
   "cell_type": "markdown",
   "id": "14dd162d",
   "metadata": {},
   "source": [
    "#### Игра со статистом"
   ]
  },
  {
   "cell_type": "code",
   "execution_count": 7,
   "id": "3c138ccb",
   "metadata": {},
   "outputs": [
    {
     "data": {
      "text/plain": [
       "[[-98.0, 98.0]]"
      ]
     },
     "execution_count": 7,
     "metadata": {},
     "output_type": "execute_result"
    }
   ],
   "source": [
    "evaluate(\n",
    "    \"rps\", #environment to use - no need to change\n",
    "    [\"HW_bots/rock_bot.py\", \"HW_bots/statistical.py\"], #agents to evaluate\n",
    "    configuration={\"episodeSteps\": 100} #number of episodes \n",
    ")"
   ]
  },
  {
   "cell_type": "markdown",
   "id": "7aeb8403",
   "metadata": {},
   "source": [
    "### 3. Агент, всегда возвращающий ножницы"
   ]
  },
  {
   "cell_type": "code",
   "execution_count": 8,
   "id": "3de29045",
   "metadata": {},
   "outputs": [],
   "source": [
    "#%%writefile HW_bots/scissors_bot.py\n",
    "\n",
    "def scissors_bot(observation, configuration):\n",
    "    return 2 "
   ]
  },
  {
   "cell_type": "markdown",
   "id": "d90e9dfb",
   "metadata": {},
   "source": [
    "#### Игра со статистом"
   ]
  },
  {
   "cell_type": "code",
   "execution_count": 9,
   "id": "591dd46a",
   "metadata": {},
   "outputs": [
    {
     "data": {
      "text/plain": [
       "[[-99.0, 99.0]]"
      ]
     },
     "execution_count": 9,
     "metadata": {},
     "output_type": "execute_result"
    }
   ],
   "source": [
    "evaluate(\n",
    "    \"rps\", #environment to use - no need to change\n",
    "    [\"HW_bots/scissors_bot.py\", \"HW_bots/statistical.py\"], #agents to evaluate\n",
    "    configuration={\"episodeSteps\": 100} #number of episodes \n",
    ")"
   ]
  },
  {
   "cell_type": "markdown",
   "id": "a429fc67",
   "metadata": {},
   "source": [
    "### 4. Агент, повторящий действие соперника из прошлого хода"
   ]
  },
  {
   "cell_type": "code",
   "execution_count": 10,
   "id": "245afd0f",
   "metadata": {},
   "outputs": [
    {
     "name": "stdout",
     "output_type": "stream",
     "text": [
      "Overwriting HW_bots/copy_opponent_bot.py\n"
     ]
    }
   ],
   "source": [
    "%%writefile HW_bots/copy_opponent_bot.py\n",
    "\n",
    "import random\n",
    "\n",
    "def copy_opponent_bot(observation, configuration):\n",
    "    if observation.step>0:\n",
    "        return observation.lastOpponentAction\n",
    "    else:\n",
    "        return random.randrange(0,configuration.signs)\n",
    "\n",
    "   "
   ]
  },
  {
   "cell_type": "markdown",
   "id": "52a33cf2",
   "metadata": {},
   "source": [
    "#### Игра со статистом"
   ]
  },
  {
   "cell_type": "code",
   "execution_count": 11,
   "id": "dbd6e50a",
   "metadata": {},
   "outputs": [
    {
     "name": "stdout",
     "output_type": "stream",
     "text": [
      "[[-20.0, 20.0]]\n"
     ]
    }
   ],
   "source": [
    "print(evaluate(\n",
    "    \"rps\", #environment to use - no need to change\n",
    "    [\"HW_bots/copy_opponent_bot.py\", \"HW_bots/statistical.py\"], #agents to evaluate\n",
    "    configuration={\"episodeSteps\": 100} #number of episodes \n",
    "))"
   ]
  },
  {
   "cell_type": "markdown",
   "id": "74c5d427",
   "metadata": {},
   "source": [
    "### 5. Агент, всегда использующий рандомное действие, вне зависимости от исхода раунда"
   ]
  },
  {
   "cell_type": "code",
   "execution_count": 12,
   "id": "a4524877",
   "metadata": {},
   "outputs": [],
   "source": [
    "#%%writefile HW_bots/random_bot.py\n",
    "import math\n",
    "from utils import get_score\n",
    "import random\n",
    "\n",
    "def random_bot(observation, configuration):\n",
    "    return random.randrange(0,configuration.signs)"
   ]
  },
  {
   "cell_type": "markdown",
   "id": "c5d4a8f5",
   "metadata": {},
   "source": [
    "#### Игра со статистом"
   ]
  },
  {
   "cell_type": "code",
   "execution_count": 13,
   "id": "6340b65e",
   "metadata": {},
   "outputs": [
    {
     "data": {
      "text/plain": [
       "[[0, 0]]"
      ]
     },
     "execution_count": 13,
     "metadata": {},
     "output_type": "execute_result"
    }
   ],
   "source": [
    "evaluate(\n",
    "    \"rps\", #environment to use - no need to change\n",
    "    [\"HW_bots/random_bot.py\", \"HW_bots/statistical.py\"], #agents to evaluate\n",
    "    configuration={\"episodeSteps\": 100} #number of episodes \n",
    ")"
   ]
  },
  {
   "cell_type": "markdown",
   "id": "879f86b6",
   "metadata": {},
   "source": [
    "### 6. Агент,  последовательно пребирающий заложенные варинты."
   ]
  },
  {
   "cell_type": "code",
   "execution_count": 14,
   "id": "df1981e8",
   "metadata": {},
   "outputs": [
    {
     "name": "stdout",
     "output_type": "stream",
     "text": [
      "Overwriting HW_bots/sort_bot.py\n"
     ]
    }
   ],
   "source": [
    "%%writefile HW_bots/sort_bot.py\n",
    "\n",
    "\n",
    "lastAction=None  \n",
    "\n",
    "def sort_bot(observation, configuration):\n",
    "    global lastAction\n",
    "    \n",
    "    if lastAction==None:\n",
    "        lastAction=0\n",
    "    else: \n",
    "        lastAction=(lastAction+1)%configuration.signs\n",
    "    \n",
    "    return lastAction\n",
    "\n",
    "     \n",
    "        "
   ]
  },
  {
   "cell_type": "markdown",
   "id": "bb018bd7",
   "metadata": {},
   "source": [
    "#### Игра со статистом"
   ]
  },
  {
   "cell_type": "code",
   "execution_count": 15,
   "id": "34ca6fd2",
   "metadata": {},
   "outputs": [
    {
     "data": {
      "text/plain": [
       "[[0, 0]]"
      ]
     },
     "execution_count": 15,
     "metadata": {},
     "output_type": "execute_result"
    }
   ],
   "source": [
    "evaluate(\n",
    "    \"rps\", #environment to use - no need to change\n",
    "    [\"HW_bots/sort_bot.py\", \"HW_bots/statistical.py\"], #agents to evaluate\n",
    "    configuration={\"episodeSteps\": 100} #number of episodes \n",
    ")"
   ]
  },
  {
   "cell_type": "markdown",
   "id": "47ba53ab",
   "metadata": {},
   "source": [
    "### 7. Агент,  +1 к предыдущему ходу соперника, вне зависимости от результата раунда"
   ]
  },
  {
   "cell_type": "code",
   "execution_count": 16,
   "id": "d4572d7c",
   "metadata": {},
   "outputs": [
    {
     "name": "stdout",
     "output_type": "stream",
     "text": [
      "Overwriting HW_bots/plus_one_bot.py\n"
     ]
    }
   ],
   "source": [
    "%%writefile HW_bots/plus_one_bot.py\n",
    "import math\n",
    "from utils import get_score\n",
    "import random\n",
    "\n",
    "\n",
    "def plus_one_bot(observation, configuration):\n",
    "    if observation.step==0:\n",
    "        return random.randint(0,configuration.signs)\n",
    "    else:\n",
    "        return ((observation.lastOpponentAction+1)%configuration.signs)  "
   ]
  },
  {
   "cell_type": "markdown",
   "id": "fa464bd0",
   "metadata": {},
   "source": [
    "Игра со статистом"
   ]
  },
  {
   "cell_type": "code",
   "execution_count": 17,
   "id": "849313c6",
   "metadata": {},
   "outputs": [
    {
     "data": {
      "text/plain": [
       "[[57.0, -57.0]]"
      ]
     },
     "execution_count": 17,
     "metadata": {},
     "output_type": "execute_result"
    }
   ],
   "source": [
    "evaluate(\n",
    "    \"rps\", #environment to use - no need to change\n",
    "    [\"HW_bots/plus_one_bot.py\", \"HW_bots/statistical.py\"], #agents to evaluate\n",
    "    configuration={\"episodeSteps\": 100} #number of episodes \n",
    ")"
   ]
  },
  {
   "cell_type": "markdown",
   "id": "d0cb9119",
   "metadata": {},
   "source": [
    "### 8. Агент, выдает +2 к предыдущему ходу соперника, вне зависимости от результата раунда"
   ]
  },
  {
   "cell_type": "code",
   "execution_count": 18,
   "id": "01340b64",
   "metadata": {},
   "outputs": [
    {
     "name": "stdout",
     "output_type": "stream",
     "text": [
      "Overwriting HW_bots/plus_two_bot.py\n"
     ]
    }
   ],
   "source": [
    "%%writefile HW_bots/plus_two_bot.py\n",
    "import math\n",
    "from utils import get_score\n",
    "import random\n",
    "\n",
    "def plus_two_bot(observation, configuration):\n",
    "    if observation.step==0:\n",
    "        return random.randint(0,configuration.signs)\n",
    "    else:\n",
    "        return (observation.lastOpponentAction+2)%configuration.signs"
   ]
  },
  {
   "cell_type": "markdown",
   "id": "403b7593",
   "metadata": {},
   "source": [
    "Игра со статистом"
   ]
  },
  {
   "cell_type": "code",
   "execution_count": 19,
   "id": "70476fd4",
   "metadata": {},
   "outputs": [
    {
     "data": {
      "text/plain": [
       "[[-99.0, 99.0]]"
      ]
     },
     "execution_count": 19,
     "metadata": {},
     "output_type": "execute_result"
    }
   ],
   "source": [
    "evaluate(\n",
    "    \"rps\", #environment to use - no need to change\n",
    "    [\"HW_bots/plus_two_bot.py\", \"HW_bots/statistical.py\"], #agents to evaluate\n",
    "    configuration={\"episodeSteps\": 100} #number of episodes \n",
    ")"
   ]
  },
  {
   "cell_type": "markdown",
   "id": "d8bf4f15",
   "metadata": {},
   "source": [
    "### 9. Агент, делает то же самое если выиграл, меняет на рандом если не выиграл "
   ]
  },
  {
   "cell_type": "code",
   "execution_count": 20,
   "id": "9d05629c",
   "metadata": {},
   "outputs": [
    {
     "name": "stdout",
     "output_type": "stream",
     "text": [
      "Overwriting HW_bots/win_abride_bot.py\n"
     ]
    }
   ],
   "source": [
    "%%writefile HW_bots/win_abride_bot.py\n",
    "import math\n",
    "from utils import get_score\n",
    "import random\n",
    "\n",
    "lastAction = None\n",
    "\n",
    "def win_abride_bot(observation, configuration):\n",
    "    global lastAction \n",
    "    if observation.step==0:\n",
    "        lastAction=random.randint(0,2)\n",
    "    elif get_score(lastAction, observation.lastOpponentAction) == 1:\n",
    "        lastAction=random.randint(0,2)\n",
    "    else: \n",
    "        lastAction=lastAction\n",
    "    \n",
    "    return lastAction\n",
    "        \n",
    "        "
   ]
  },
  {
   "cell_type": "markdown",
   "id": "b89b1800",
   "metadata": {},
   "source": [
    "Игра со статистом"
   ]
  },
  {
   "cell_type": "code",
   "execution_count": 21,
   "id": "240846d1",
   "metadata": {},
   "outputs": [
    {
     "data": {
      "text/plain": [
       "[[-98.0, 98.0]]"
      ]
     },
     "execution_count": 21,
     "metadata": {},
     "output_type": "execute_result"
    }
   ],
   "source": [
    "evaluate(\n",
    "    \"rps\", #environment to use - no need to change\n",
    "    [\"HW_bots/win_abride_bot.py\", \"HW_bots/statistical.py\"], #agents to evaluate\n",
    "    configuration={\"episodeSteps\": 100} #number of episodes \n",
    ")"
   ]
  },
  {
   "cell_type": "markdown",
   "id": "46006698",
   "metadata": {},
   "source": [
    "### 10. Агент, делает тоже самое если выиграл, меняет на ход соперника если не выиграл "
   ]
  },
  {
   "cell_type": "code",
   "execution_count": 22,
   "id": "76202e3c",
   "metadata": {},
   "outputs": [
    {
     "name": "stdout",
     "output_type": "stream",
     "text": [
      "Overwriting HW_bots/adjust_to_the_opponent_bot.py\n"
     ]
    }
   ],
   "source": [
    "%%writefile HW_bots/adjust_to_the_opponent_bot.py\n",
    "import math\n",
    "from utils import get_score\n",
    "import random\n",
    "\n",
    "lastAction = None\n",
    "\n",
    "def adjust_to_the_opponent_bot(observation, configuration):\n",
    "    global lastAction \n",
    "    if observation.step==0:\n",
    "        lastAction=random.randint(0,configuration.signs)\n",
    "    elif get_score(lastAction, observation.lastOpponentAction) == 1:\n",
    "        lastAction=observation.lastOpponentAction\n",
    "    else: \n",
    "        lastAction=lastAction\n",
    "    \n",
    "    return lastAction"
   ]
  },
  {
   "cell_type": "markdown",
   "id": "b414bfdc",
   "metadata": {},
   "source": [
    "Игра со статистом"
   ]
  },
  {
   "cell_type": "code",
   "execution_count": 23,
   "id": "13327085",
   "metadata": {},
   "outputs": [
    {
     "data": {
      "text/plain": [
       "[[-98.0, 98.0]]"
      ]
     },
     "execution_count": 23,
     "metadata": {},
     "output_type": "execute_result"
    }
   ],
   "source": [
    "evaluate(\n",
    "    \"rps\", #environment to use - no need to change\n",
    "    [\"HW_bots/adjust_to_the_opponent_bot.py\", \"HW_bots/statistical.py\"], #agents to evaluate\n",
    "    configuration={\"episodeSteps\": 100} #number of episodes \n",
    ")"
   ]
  },
  {
   "cell_type": "markdown",
   "id": "12392bb4",
   "metadata": {},
   "source": [
    "### 11. Агент, выдает +2 если не выиграл, делает тоже самое если выиграл "
   ]
  },
  {
   "cell_type": "code",
   "execution_count": 24,
   "id": "e026d77b",
   "metadata": {},
   "outputs": [
    {
     "name": "stdout",
     "output_type": "stream",
     "text": [
      "Overwriting HW_bots/lost_plus_two_bot.py\n"
     ]
    }
   ],
   "source": [
    "%%writefile HW_bots/lost_plus_two_bot.py\n",
    "import math\n",
    "from utils import get_score\n",
    "import random\n",
    "\n",
    "lastAction = None\n",
    "\n",
    "def lost_plus_two_bot(observation, configuration):\n",
    "    global lastAction \n",
    "    if observation.step==0:\n",
    "        lastAction=random.randint(0,2)\n",
    "    elif get_score(lastAction, observation.lastOpponentAction) != 1:\n",
    "        lastAction=(lastAction+2)%configuration.signs\n",
    "    else:\n",
    "        lastAction\n",
    "    \n",
    "    return lastAction"
   ]
  },
  {
   "cell_type": "markdown",
   "id": "0af44b46",
   "metadata": {},
   "source": [
    "Игра со статистом"
   ]
  },
  {
   "cell_type": "code",
   "execution_count": 25,
   "id": "90a35e60",
   "metadata": {},
   "outputs": [
    {
     "data": {
      "text/plain": [
       "[[57.0, -57.0]]"
      ]
     },
     "execution_count": 25,
     "metadata": {},
     "output_type": "execute_result"
    }
   ],
   "source": [
    "evaluate(\n",
    "    \"rps\", #environment to use - no need to change\n",
    "    [\"HW_bots/lost_plus_two_bot.py\", \"HW_bots/statistical.py\"], #agents to evaluate\n",
    "    configuration={\"episodeSteps\": 100} #number of episodes \n",
    ")"
   ]
  },
  {
   "cell_type": "markdown",
   "id": "78c88042",
   "metadata": {},
   "source": [
    "### 12. Агент, если не выиграл рандом. Если выиграл предыдущий ход соперника"
   ]
  },
  {
   "cell_type": "code",
   "execution_count": 26,
   "id": "0e8f1ae7",
   "metadata": {},
   "outputs": [
    {
     "name": "stdout",
     "output_type": "stream",
     "text": [
      "Overwriting HW_bots/win_opponent_lost_random_bot.py\n"
     ]
    }
   ],
   "source": [
    "%%writefile HW_bots/win_opponent_lost_random_bot.py\n",
    "import math\n",
    "from utils import get_score\n",
    "import random\n",
    "\n",
    "lastAction = None\n",
    "\n",
    "def win_opponent_lost_random_bot(observation, configuration):\n",
    "    global lastAction \n",
    "    \n",
    "    if observation.step==0:\n",
    "        lastAction=random.randint(0,configuration.signs-1)\n",
    "    elif get_score(lastAction, observation.lastOpponentAction) != 1:\n",
    "        lastAction=random.randint(0,configuration.signs-1)\n",
    "    else:\n",
    "        \n",
    "         lastAction=observation.lastOpponentAction \n",
    "    \n",
    "    return lastAction "
   ]
  },
  {
   "cell_type": "markdown",
   "id": "9e78c84d",
   "metadata": {},
   "source": [
    "Игра со статистом"
   ]
  },
  {
   "cell_type": "code",
   "execution_count": 27,
   "id": "77ae6d0a",
   "metadata": {},
   "outputs": [
    {
     "data": {
      "text/plain": [
       "[[0, 0]]"
      ]
     },
     "execution_count": 27,
     "metadata": {},
     "output_type": "execute_result"
    }
   ],
   "source": [
    "evaluate(\n",
    "    \"rps\", #environment to use - no need to change\n",
    "    [\"HW_bots/win_opponent_lost_random_bot.py\", \"HW_bots/statistical.py\"], #agents to evaluate\n",
    "    configuration={\"episodeSteps\": 100} #number of episodes \n",
    ")"
   ]
  },
  {
   "cell_type": "markdown",
   "id": "da2341d0",
   "metadata": {},
   "source": [
    "### 13. Агент: Три хода и рандом. Три раза повторяет свое действие, дальше рандом "
   ]
  },
  {
   "cell_type": "code",
   "execution_count": 28,
   "id": "913bcc81",
   "metadata": {},
   "outputs": [
    {
     "name": "stdout",
     "output_type": "stream",
     "text": [
      "Overwriting HW_bots/two_moves_bot.py\n"
     ]
    }
   ],
   "source": [
    "%%writefile HW_bots/two_moves_bot.py\n",
    "\n",
    "import math\n",
    "from utils import get_score\n",
    "import random\n",
    "\n",
    "Action_history=[]\n",
    "Action_count=len(Action_history)\n",
    "lastAction=None\n",
    "\n",
    "\n",
    "def two_moves_bot(observation, configuration):\n",
    "    global Action_history\n",
    "    global Action_count\n",
    "    global lastAction\n",
    "    Action_count=len(Action_history)\n",
    "    if observation.step==0:\n",
    "        lastAction=random.randint(0,configuration.signs-1)\n",
    "        Action_history.append(lastAction)\n",
    "        \n",
    "    elif Action_count<2:\n",
    "        lastAction=lastAction\n",
    "        Action_history.append(lastAction)\n",
    "        \n",
    "    else:\n",
    "        Action_history=[]\n",
    "        lastAction=random.randint(0,configuration.signs-1)\n",
    "        Action_history.append(lastAction)\n",
    "    \n",
    "    return lastAction\n",
    "    \n",
    "        \n",
    "    \n",
    "    "
   ]
  },
  {
   "cell_type": "code",
   "execution_count": 29,
   "id": "1741bf33",
   "metadata": {},
   "outputs": [
    {
     "data": {
      "text/plain": [
       "[[0, 0]]"
      ]
     },
     "execution_count": 29,
     "metadata": {},
     "output_type": "execute_result"
    }
   ],
   "source": [
    "evaluate(\n",
    "    \"rps\", #environment to use - no need to change\n",
    "    [\"HW_bots/two_moves_bot.py\", \"HW_bots/statistical.py\"], #agents to evaluate\n",
    "    configuration={\"episodeSteps\": 100} #number of episodes \n",
    ")"
   ]
  },
  {
   "cell_type": "markdown",
   "id": "a6f042da",
   "metadata": {},
   "source": [
    "## Запускаем турнир и выводим результаты"
   ]
  },
  {
   "cell_type": "code",
   "execution_count": 30,
   "id": "dc6948c2",
   "metadata": {},
   "outputs": [
    {
     "data": {
      "text/html": [
       "<div>\n",
       "<style scoped>\n",
       "    .dataframe tbody tr th:only-of-type {\n",
       "        vertical-align: middle;\n",
       "    }\n",
       "\n",
       "    .dataframe tbody tr th {\n",
       "        vertical-align: top;\n",
       "    }\n",
       "\n",
       "    .dataframe thead th {\n",
       "        text-align: right;\n",
       "    }\n",
       "</style>\n",
       "<table border=\"1\" class=\"dataframe\">\n",
       "  <thead>\n",
       "    <tr style=\"text-align: right;\">\n",
       "      <th></th>\n",
       "      <th>Рейтинг турнира по количеству выигранных партий</th>\n",
       "    </tr>\n",
       "  </thead>\n",
       "  <tbody>\n",
       "    <tr>\n",
       "      <th>HW_bots/statistical.py</th>\n",
       "      <td>49</td>\n",
       "    </tr>\n",
       "    <tr>\n",
       "      <th>HW_bots/paper_bot.py</th>\n",
       "      <td>45</td>\n",
       "    </tr>\n",
       "    <tr>\n",
       "      <th>HW_bots/rock_bot.py</th>\n",
       "      <td>45</td>\n",
       "    </tr>\n",
       "    <tr>\n",
       "      <th>HW_bots/cissors_bot.py</th>\n",
       "      <td>39</td>\n",
       "    </tr>\n",
       "    <tr>\n",
       "      <th>HW_bots/plus_two_bot.py</th>\n",
       "      <td>33</td>\n",
       "    </tr>\n",
       "    <tr>\n",
       "      <th>HW_bots/sort_bot.py</th>\n",
       "      <td>33</td>\n",
       "    </tr>\n",
       "    <tr>\n",
       "      <th>HW_bots/random_bot.py</th>\n",
       "      <td>33</td>\n",
       "    </tr>\n",
       "    <tr>\n",
       "      <th>HW_bots/plus_one_bot.py</th>\n",
       "      <td>31</td>\n",
       "    </tr>\n",
       "    <tr>\n",
       "      <th>HW_bots/win_abride_bot.py</th>\n",
       "      <td>27</td>\n",
       "    </tr>\n",
       "    <tr>\n",
       "      <th>HW_bots/lost_plus_two_bot.py</th>\n",
       "      <td>20</td>\n",
       "    </tr>\n",
       "    <tr>\n",
       "      <th>HW_bots/win_opponent_lost_random_bot.py</th>\n",
       "      <td>18</td>\n",
       "    </tr>\n",
       "    <tr>\n",
       "      <th>HW_bots/adjust_to_the_opponent_bot.py</th>\n",
       "      <td>18</td>\n",
       "    </tr>\n",
       "    <tr>\n",
       "      <th>HW_bots/two_moves_bot.py</th>\n",
       "      <td>14</td>\n",
       "    </tr>\n",
       "  </tbody>\n",
       "</table>\n",
       "</div>"
      ],
      "text/plain": [
       "                                         Рейтинг турнира по количеству выигранных партий\n",
       "HW_bots/statistical.py                                                                49\n",
       "HW_bots/paper_bot.py                                                                  45\n",
       "HW_bots/rock_bot.py                                                                   45\n",
       "HW_bots/cissors_bot.py                                                                39\n",
       "HW_bots/plus_two_bot.py                                                               33\n",
       "HW_bots/sort_bot.py                                                                   33\n",
       "HW_bots/random_bot.py                                                                 33\n",
       "HW_bots/plus_one_bot.py                                                               31\n",
       "HW_bots/win_abride_bot.py                                                             27\n",
       "HW_bots/lost_plus_two_bot.py                                                          20\n",
       "HW_bots/win_opponent_lost_random_bot.py                                               18\n",
       "HW_bots/adjust_to_the_opponent_bot.py                                                 18\n",
       "HW_bots/two_moves_bot.py                                                              14"
      ]
     },
     "execution_count": 30,
     "metadata": {},
     "output_type": "execute_result"
    }
   ],
   "source": [
    "agents = ['HW_bots/two_moves_bot.py',\n",
    "         'HW_bots/win_opponent_lost_random_bot.py',\n",
    "         'HW_bots/lost_plus_two_bot.py',\n",
    "         'HW_bots/adjust_to_the_opponent_bot.py',\n",
    "         'HW_bots/win_abride_bot.py',\n",
    "         'HW_bots/plus_two_bot.py',\n",
    "         'HW_bots/plus_one_bot.py',\n",
    "         'HW_bots/sort_bot.py',\n",
    "         'HW_bots/random_bot.py',\n",
    "         'HW_bots/cissors_bot.py',\n",
    "         'HW_bots/paper_bot.py',\n",
    "         'HW_bots/rock_bot.py',\n",
    "         'HW_bots/statistical.py']\n",
    "\n",
    "\n",
    "rank = {agent: 0 for agent in agents}\n",
    "\n",
    "for times in range(6):\n",
    "# сколько раундов сыграет каждая пара\n",
    "          \n",
    "    for i in range(len(agents)):\n",
    "        for j in range(i+1, len(agents)):\n",
    "            e=evaluate(\n",
    "    \"rps\", #environment to use - no need to change\n",
    "    [\"HW_bots/two_moves_bot.py\", \"HW_bots/statistical.py\"], #agents to evaluate\n",
    "    configuration={\"episodeSteps\": 100,'tieRewardThreshold': 2} #number of episodes \n",
    ")\n",
    "            if e[0][0] > e[0][1]:\n",
    "                rank[agents[i]] += 1\n",
    "            elif e[0][0] < e[0][1]:\n",
    "                rank[agents[j]] += 1\n",
    "                \n",
    "                \n",
    "rank_se = pd.Series(rank, name=\"Рейтинг турнира по количеству выигранных партий\").sort_values(ascending=False).to_frame()\n",
    "rank_se\n",
    "            "
   ]
  },
  {
   "cell_type": "code",
   "execution_count": null,
   "id": "f5d2fd7c",
   "metadata": {},
   "outputs": [],
   "source": []
  }
 ],
 "metadata": {
  "kernelspec": {
   "display_name": "Python 3 (ipykernel)",
   "language": "python",
   "name": "python3"
  },
  "language_info": {
   "codemirror_mode": {
    "name": "ipython",
    "version": 3
   },
   "file_extension": ".py",
   "mimetype": "text/x-python",
   "name": "python",
   "nbconvert_exporter": "python",
   "pygments_lexer": "ipython3",
   "version": "3.9.12"
  }
 },
 "nbformat": 4,
 "nbformat_minor": 5
}
